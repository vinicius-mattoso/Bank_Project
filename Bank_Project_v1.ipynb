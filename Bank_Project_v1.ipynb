{
 "cells": [
  {
   "cell_type": "markdown",
   "metadata": {},
   "source": [
    "# Projeto para demonstração de conhecimentos no algoritmo de KNN\n",
    "## Vou trabalhar com um dataset disponível na Kaggle: https://www.kaggle.com/henriqueyamahata/bank-marketing?select=bank-additional-names.txt"
   ]
  },
  {
   "cell_type": "code",
   "execution_count": 1,
   "metadata": {},
   "outputs": [],
   "source": [
    "#importando as principais biliotecas\n",
    "import pandas as pd\n",
    "import seaborn as sns\n",
    "import matplotlib.pyplot as plt\n",
    "import numpy as np"
   ]
  },
  {
   "cell_type": "markdown",
   "metadata": {},
   "source": [
    "# Carregando a base de Dados"
   ]
  },
  {
   "cell_type": "code",
   "execution_count": 2,
   "metadata": {},
   "outputs": [
    {
     "data": {
      "text/html": [
       "<div>\n",
       "<style scoped>\n",
       "    .dataframe tbody tr th:only-of-type {\n",
       "        vertical-align: middle;\n",
       "    }\n",
       "\n",
       "    .dataframe tbody tr th {\n",
       "        vertical-align: top;\n",
       "    }\n",
       "\n",
       "    .dataframe thead th {\n",
       "        text-align: right;\n",
       "    }\n",
       "</style>\n",
       "<table border=\"1\" class=\"dataframe\">\n",
       "  <thead>\n",
       "    <tr style=\"text-align: right;\">\n",
       "      <th></th>\n",
       "      <th>age</th>\n",
       "      <th>job</th>\n",
       "      <th>marital</th>\n",
       "      <th>education</th>\n",
       "      <th>default</th>\n",
       "      <th>housing</th>\n",
       "      <th>loan</th>\n",
       "      <th>contact</th>\n",
       "      <th>month</th>\n",
       "      <th>day_of_week</th>\n",
       "      <th>...</th>\n",
       "      <th>campaign</th>\n",
       "      <th>pdays</th>\n",
       "      <th>previous</th>\n",
       "      <th>poutcome</th>\n",
       "      <th>emp.var.rate</th>\n",
       "      <th>cons.price.idx</th>\n",
       "      <th>cons.conf.idx</th>\n",
       "      <th>euribor3m</th>\n",
       "      <th>nr.employed</th>\n",
       "      <th>y</th>\n",
       "    </tr>\n",
       "  </thead>\n",
       "  <tbody>\n",
       "    <tr>\n",
       "      <th>0</th>\n",
       "      <td>56</td>\n",
       "      <td>housemaid</td>\n",
       "      <td>married</td>\n",
       "      <td>basic.4y</td>\n",
       "      <td>no</td>\n",
       "      <td>no</td>\n",
       "      <td>no</td>\n",
       "      <td>telephone</td>\n",
       "      <td>may</td>\n",
       "      <td>mon</td>\n",
       "      <td>...</td>\n",
       "      <td>1</td>\n",
       "      <td>999</td>\n",
       "      <td>0</td>\n",
       "      <td>nonexistent</td>\n",
       "      <td>1.1</td>\n",
       "      <td>93.994</td>\n",
       "      <td>-36.4</td>\n",
       "      <td>4.857</td>\n",
       "      <td>5191.0</td>\n",
       "      <td>no</td>\n",
       "    </tr>\n",
       "    <tr>\n",
       "      <th>1</th>\n",
       "      <td>57</td>\n",
       "      <td>services</td>\n",
       "      <td>married</td>\n",
       "      <td>high.school</td>\n",
       "      <td>unknown</td>\n",
       "      <td>no</td>\n",
       "      <td>no</td>\n",
       "      <td>telephone</td>\n",
       "      <td>may</td>\n",
       "      <td>mon</td>\n",
       "      <td>...</td>\n",
       "      <td>1</td>\n",
       "      <td>999</td>\n",
       "      <td>0</td>\n",
       "      <td>nonexistent</td>\n",
       "      <td>1.1</td>\n",
       "      <td>93.994</td>\n",
       "      <td>-36.4</td>\n",
       "      <td>4.857</td>\n",
       "      <td>5191.0</td>\n",
       "      <td>no</td>\n",
       "    </tr>\n",
       "    <tr>\n",
       "      <th>2</th>\n",
       "      <td>37</td>\n",
       "      <td>services</td>\n",
       "      <td>married</td>\n",
       "      <td>high.school</td>\n",
       "      <td>no</td>\n",
       "      <td>yes</td>\n",
       "      <td>no</td>\n",
       "      <td>telephone</td>\n",
       "      <td>may</td>\n",
       "      <td>mon</td>\n",
       "      <td>...</td>\n",
       "      <td>1</td>\n",
       "      <td>999</td>\n",
       "      <td>0</td>\n",
       "      <td>nonexistent</td>\n",
       "      <td>1.1</td>\n",
       "      <td>93.994</td>\n",
       "      <td>-36.4</td>\n",
       "      <td>4.857</td>\n",
       "      <td>5191.0</td>\n",
       "      <td>no</td>\n",
       "    </tr>\n",
       "    <tr>\n",
       "      <th>3</th>\n",
       "      <td>40</td>\n",
       "      <td>admin.</td>\n",
       "      <td>married</td>\n",
       "      <td>basic.6y</td>\n",
       "      <td>no</td>\n",
       "      <td>no</td>\n",
       "      <td>no</td>\n",
       "      <td>telephone</td>\n",
       "      <td>may</td>\n",
       "      <td>mon</td>\n",
       "      <td>...</td>\n",
       "      <td>1</td>\n",
       "      <td>999</td>\n",
       "      <td>0</td>\n",
       "      <td>nonexistent</td>\n",
       "      <td>1.1</td>\n",
       "      <td>93.994</td>\n",
       "      <td>-36.4</td>\n",
       "      <td>4.857</td>\n",
       "      <td>5191.0</td>\n",
       "      <td>no</td>\n",
       "    </tr>\n",
       "    <tr>\n",
       "      <th>4</th>\n",
       "      <td>56</td>\n",
       "      <td>services</td>\n",
       "      <td>married</td>\n",
       "      <td>high.school</td>\n",
       "      <td>no</td>\n",
       "      <td>no</td>\n",
       "      <td>yes</td>\n",
       "      <td>telephone</td>\n",
       "      <td>may</td>\n",
       "      <td>mon</td>\n",
       "      <td>...</td>\n",
       "      <td>1</td>\n",
       "      <td>999</td>\n",
       "      <td>0</td>\n",
       "      <td>nonexistent</td>\n",
       "      <td>1.1</td>\n",
       "      <td>93.994</td>\n",
       "      <td>-36.4</td>\n",
       "      <td>4.857</td>\n",
       "      <td>5191.0</td>\n",
       "      <td>no</td>\n",
       "    </tr>\n",
       "  </tbody>\n",
       "</table>\n",
       "<p>5 rows × 21 columns</p>\n",
       "</div>"
      ],
      "text/plain": [
       "   age        job  marital    education  default housing loan    contact  \\\n",
       "0   56  housemaid  married     basic.4y       no      no   no  telephone   \n",
       "1   57   services  married  high.school  unknown      no   no  telephone   \n",
       "2   37   services  married  high.school       no     yes   no  telephone   \n",
       "3   40     admin.  married     basic.6y       no      no   no  telephone   \n",
       "4   56   services  married  high.school       no      no  yes  telephone   \n",
       "\n",
       "  month day_of_week  ...  campaign  pdays  previous     poutcome emp.var.rate  \\\n",
       "0   may         mon  ...         1    999         0  nonexistent          1.1   \n",
       "1   may         mon  ...         1    999         0  nonexistent          1.1   \n",
       "2   may         mon  ...         1    999         0  nonexistent          1.1   \n",
       "3   may         mon  ...         1    999         0  nonexistent          1.1   \n",
       "4   may         mon  ...         1    999         0  nonexistent          1.1   \n",
       "\n",
       "   cons.price.idx  cons.conf.idx  euribor3m  nr.employed   y  \n",
       "0          93.994          -36.4      4.857       5191.0  no  \n",
       "1          93.994          -36.4      4.857       5191.0  no  \n",
       "2          93.994          -36.4      4.857       5191.0  no  \n",
       "3          93.994          -36.4      4.857       5191.0  no  \n",
       "4          93.994          -36.4      4.857       5191.0  no  \n",
       "\n",
       "[5 rows x 21 columns]"
      ]
     },
     "execution_count": 2,
     "metadata": {},
     "output_type": "execute_result"
    }
   ],
   "source": [
    "dataset = pd.read_csv(\"bank-additional-full.csv\", delimiter=';')\n",
    "dataset.head()"
   ]
  },
  {
   "cell_type": "markdown",
   "metadata": {},
   "source": [
    "# Convertendo a variavel de predição de categórica para numérica"
   ]
  },
  {
   "cell_type": "code",
   "execution_count": 3,
   "metadata": {},
   "outputs": [
    {
     "data": {
      "text/html": [
       "<div>\n",
       "<style scoped>\n",
       "    .dataframe tbody tr th:only-of-type {\n",
       "        vertical-align: middle;\n",
       "    }\n",
       "\n",
       "    .dataframe tbody tr th {\n",
       "        vertical-align: top;\n",
       "    }\n",
       "\n",
       "    .dataframe thead th {\n",
       "        text-align: right;\n",
       "    }\n",
       "</style>\n",
       "<table border=\"1\" class=\"dataframe\">\n",
       "  <thead>\n",
       "    <tr style=\"text-align: right;\">\n",
       "      <th></th>\n",
       "      <th>age</th>\n",
       "      <th>job</th>\n",
       "      <th>marital</th>\n",
       "      <th>education</th>\n",
       "      <th>default</th>\n",
       "      <th>housing</th>\n",
       "      <th>loan</th>\n",
       "      <th>contact</th>\n",
       "      <th>month</th>\n",
       "      <th>day_of_week</th>\n",
       "      <th>...</th>\n",
       "      <th>campaign</th>\n",
       "      <th>pdays</th>\n",
       "      <th>previous</th>\n",
       "      <th>poutcome</th>\n",
       "      <th>emp.var.rate</th>\n",
       "      <th>cons.price.idx</th>\n",
       "      <th>cons.conf.idx</th>\n",
       "      <th>euribor3m</th>\n",
       "      <th>nr.employed</th>\n",
       "      <th>y</th>\n",
       "    </tr>\n",
       "  </thead>\n",
       "  <tbody>\n",
       "    <tr>\n",
       "      <th>0</th>\n",
       "      <td>56</td>\n",
       "      <td>housemaid</td>\n",
       "      <td>married</td>\n",
       "      <td>basic.4y</td>\n",
       "      <td>no</td>\n",
       "      <td>no</td>\n",
       "      <td>no</td>\n",
       "      <td>telephone</td>\n",
       "      <td>may</td>\n",
       "      <td>mon</td>\n",
       "      <td>...</td>\n",
       "      <td>1</td>\n",
       "      <td>999</td>\n",
       "      <td>0</td>\n",
       "      <td>nonexistent</td>\n",
       "      <td>1.1</td>\n",
       "      <td>93.994</td>\n",
       "      <td>-36.4</td>\n",
       "      <td>4.857</td>\n",
       "      <td>5191.0</td>\n",
       "      <td>0</td>\n",
       "    </tr>\n",
       "    <tr>\n",
       "      <th>1</th>\n",
       "      <td>57</td>\n",
       "      <td>services</td>\n",
       "      <td>married</td>\n",
       "      <td>high.school</td>\n",
       "      <td>unknown</td>\n",
       "      <td>no</td>\n",
       "      <td>no</td>\n",
       "      <td>telephone</td>\n",
       "      <td>may</td>\n",
       "      <td>mon</td>\n",
       "      <td>...</td>\n",
       "      <td>1</td>\n",
       "      <td>999</td>\n",
       "      <td>0</td>\n",
       "      <td>nonexistent</td>\n",
       "      <td>1.1</td>\n",
       "      <td>93.994</td>\n",
       "      <td>-36.4</td>\n",
       "      <td>4.857</td>\n",
       "      <td>5191.0</td>\n",
       "      <td>0</td>\n",
       "    </tr>\n",
       "    <tr>\n",
       "      <th>2</th>\n",
       "      <td>37</td>\n",
       "      <td>services</td>\n",
       "      <td>married</td>\n",
       "      <td>high.school</td>\n",
       "      <td>no</td>\n",
       "      <td>yes</td>\n",
       "      <td>no</td>\n",
       "      <td>telephone</td>\n",
       "      <td>may</td>\n",
       "      <td>mon</td>\n",
       "      <td>...</td>\n",
       "      <td>1</td>\n",
       "      <td>999</td>\n",
       "      <td>0</td>\n",
       "      <td>nonexistent</td>\n",
       "      <td>1.1</td>\n",
       "      <td>93.994</td>\n",
       "      <td>-36.4</td>\n",
       "      <td>4.857</td>\n",
       "      <td>5191.0</td>\n",
       "      <td>0</td>\n",
       "    </tr>\n",
       "    <tr>\n",
       "      <th>3</th>\n",
       "      <td>40</td>\n",
       "      <td>admin.</td>\n",
       "      <td>married</td>\n",
       "      <td>basic.6y</td>\n",
       "      <td>no</td>\n",
       "      <td>no</td>\n",
       "      <td>no</td>\n",
       "      <td>telephone</td>\n",
       "      <td>may</td>\n",
       "      <td>mon</td>\n",
       "      <td>...</td>\n",
       "      <td>1</td>\n",
       "      <td>999</td>\n",
       "      <td>0</td>\n",
       "      <td>nonexistent</td>\n",
       "      <td>1.1</td>\n",
       "      <td>93.994</td>\n",
       "      <td>-36.4</td>\n",
       "      <td>4.857</td>\n",
       "      <td>5191.0</td>\n",
       "      <td>0</td>\n",
       "    </tr>\n",
       "    <tr>\n",
       "      <th>4</th>\n",
       "      <td>56</td>\n",
       "      <td>services</td>\n",
       "      <td>married</td>\n",
       "      <td>high.school</td>\n",
       "      <td>no</td>\n",
       "      <td>no</td>\n",
       "      <td>yes</td>\n",
       "      <td>telephone</td>\n",
       "      <td>may</td>\n",
       "      <td>mon</td>\n",
       "      <td>...</td>\n",
       "      <td>1</td>\n",
       "      <td>999</td>\n",
       "      <td>0</td>\n",
       "      <td>nonexistent</td>\n",
       "      <td>1.1</td>\n",
       "      <td>93.994</td>\n",
       "      <td>-36.4</td>\n",
       "      <td>4.857</td>\n",
       "      <td>5191.0</td>\n",
       "      <td>0</td>\n",
       "    </tr>\n",
       "  </tbody>\n",
       "</table>\n",
       "<p>5 rows × 21 columns</p>\n",
       "</div>"
      ],
      "text/plain": [
       "   age        job  marital    education  default housing loan    contact  \\\n",
       "0   56  housemaid  married     basic.4y       no      no   no  telephone   \n",
       "1   57   services  married  high.school  unknown      no   no  telephone   \n",
       "2   37   services  married  high.school       no     yes   no  telephone   \n",
       "3   40     admin.  married     basic.6y       no      no   no  telephone   \n",
       "4   56   services  married  high.school       no      no  yes  telephone   \n",
       "\n",
       "  month day_of_week  ...  campaign  pdays  previous     poutcome emp.var.rate  \\\n",
       "0   may         mon  ...         1    999         0  nonexistent          1.1   \n",
       "1   may         mon  ...         1    999         0  nonexistent          1.1   \n",
       "2   may         mon  ...         1    999         0  nonexistent          1.1   \n",
       "3   may         mon  ...         1    999         0  nonexistent          1.1   \n",
       "4   may         mon  ...         1    999         0  nonexistent          1.1   \n",
       "\n",
       "   cons.price.idx  cons.conf.idx  euribor3m  nr.employed  y  \n",
       "0          93.994          -36.4      4.857       5191.0  0  \n",
       "1          93.994          -36.4      4.857       5191.0  0  \n",
       "2          93.994          -36.4      4.857       5191.0  0  \n",
       "3          93.994          -36.4      4.857       5191.0  0  \n",
       "4          93.994          -36.4      4.857       5191.0  0  \n",
       "\n",
       "[5 rows x 21 columns]"
      ]
     },
     "execution_count": 3,
     "metadata": {},
     "output_type": "execute_result"
    }
   ],
   "source": [
    "dataset['y'] = dataset['y'].map({'yes': 1, 'no': 0})\n",
    "dataset.head()"
   ]
  },
  {
   "cell_type": "markdown",
   "metadata": {},
   "source": [
    "# Information from the Dataset\n",
    "1.  age (numeric)\n",
    "2.  job : type of job (categorical: \"admin.\",\"blue-collar\",\"entrepreneur\",\"housemaid\",\"management\",\"retired\",\"self-employed\",\"services\",\"student\",\"technician\",\"unemployed\",\"unknown\")\n",
    "3.  marital : marital status (categorical: \"divorced\",\"married\",\"single\",\"unknown\"; note: \"divorced\" means divorced or widowed)\n",
    "4.  education (categorical: \"basic.4y\",\"basic.6y\",\"basic.9y\",\"high.school\",\"illiterate\",\"professional.course\",\"university.degree\",\"unknown\")\n",
    "5.  default: has credit in default? (categorical: \"no\",\"yes\",\"unknown\")\n",
    "6.  housing: has housing loan? (categorical: \"no\",\"yes\",\"unknown\")\n",
    "7.  loan: has personal loan? (categorical: \"no\",\"yes\",\"unknown\")\n",
    "# Related with the last contact of the current campaign:\n",
    "8.  contact: contact communication type (categorical: \"cellular\",\"telephone\") \n",
    "9.  month: last contact month of year (categorical: \"jan\", \"feb\", \"mar\", ..., \"nov\", \"dec\")\n",
    "10.  day_of_week: last contact day of the week (categorical: \"mon\",\"tue\",\"wed\",\"thu\",\"fri\")\n",
    "11.  duration: last contact duration, in seconds (numeric). Important note:  this attribute highly affects the output target (e.g., if duration=0 then y=\"no\"). Yet, the duration is not known before a call is performed. Also, after the end of the call y is obviously known. Thus, this input should only be included for benchmark purposes and should be discarded if the intention is to have a realistic predictive model.\n",
    "# Other attributes:\n",
    "12.  campaign: number of contacts performed during this campaign and for this client (numeric, includes last contact)\n",
    "13.  pdays: number of days that passed by after the client was last contacted from a previous campaign (numeric; 999 means client was not previously contacted)\n",
    "14.  previous: number of contacts performed before this campaign and for this client (numeric)\n",
    "15.  poutcome: outcome of the previous marketing campaign (categorical: \"failure\",\"nonexistent\",\"success\")\n",
    "# Social and economic context attributes\n",
    "16.  emp.var.rate: employment variation rate - quarterly indicator (numeric)\n",
    "17.  cons.price.idx: consumer price index - monthly indicator (numeric)     \n",
    "18.  cons.conf.idx: consumer confidence index - monthly indicator (numeric)     \n",
    "19.  euribor3m: euribor 3 month rate - daily indicator (numeric)\n",
    "20.  nr.employed: number of employees - quarterly indicator (numeric)\n",
    "# Output variable (desired target):\n",
    "21. y - has the client subscribed a term deposit? (binary: \"yes\",\"no\")\n",
    "\n",
    "### Missing Attribute Values: There are several missing values in some categorical attributes, all coded with the \"unknown\" label. These missing values can be treated as a possible class label or using deletion or imputation techniques. \n"
   ]
  },
  {
   "cell_type": "markdown",
   "metadata": {},
   "source": [
    "# Análise inicial dos dados "
   ]
  },
  {
   "cell_type": "code",
   "execution_count": 4,
   "metadata": {},
   "outputs": [
    {
     "name": "stdout",
     "output_type": "stream",
     "text": [
      "<class 'pandas.core.frame.DataFrame'>\n",
      "RangeIndex: 41188 entries, 0 to 41187\n",
      "Data columns (total 21 columns):\n",
      " #   Column          Non-Null Count  Dtype  \n",
      "---  ------          --------------  -----  \n",
      " 0   age             41188 non-null  int64  \n",
      " 1   job             41188 non-null  object \n",
      " 2   marital         41188 non-null  object \n",
      " 3   education       41188 non-null  object \n",
      " 4   default         41188 non-null  object \n",
      " 5   housing         41188 non-null  object \n",
      " 6   loan            41188 non-null  object \n",
      " 7   contact         41188 non-null  object \n",
      " 8   month           41188 non-null  object \n",
      " 9   day_of_week     41188 non-null  object \n",
      " 10  duration        41188 non-null  int64  \n",
      " 11  campaign        41188 non-null  int64  \n",
      " 12  pdays           41188 non-null  int64  \n",
      " 13  previous        41188 non-null  int64  \n",
      " 14  poutcome        41188 non-null  object \n",
      " 15  emp.var.rate    41188 non-null  float64\n",
      " 16  cons.price.idx  41188 non-null  float64\n",
      " 17  cons.conf.idx   41188 non-null  float64\n",
      " 18  euribor3m       41188 non-null  float64\n",
      " 19  nr.employed     41188 non-null  float64\n",
      " 20  y               41188 non-null  int64  \n",
      "dtypes: float64(5), int64(6), object(10)\n",
      "memory usage: 6.6+ MB\n"
     ]
    }
   ],
   "source": [
    "dataset.info()"
   ]
  },
  {
   "cell_type": "code",
   "execution_count": 5,
   "metadata": {},
   "outputs": [
    {
     "data": {
      "text/html": [
       "<div>\n",
       "<style scoped>\n",
       "    .dataframe tbody tr th:only-of-type {\n",
       "        vertical-align: middle;\n",
       "    }\n",
       "\n",
       "    .dataframe tbody tr th {\n",
       "        vertical-align: top;\n",
       "    }\n",
       "\n",
       "    .dataframe thead th {\n",
       "        text-align: right;\n",
       "    }\n",
       "</style>\n",
       "<table border=\"1\" class=\"dataframe\">\n",
       "  <thead>\n",
       "    <tr style=\"text-align: right;\">\n",
       "      <th></th>\n",
       "      <th>age</th>\n",
       "      <th>duration</th>\n",
       "      <th>campaign</th>\n",
       "      <th>pdays</th>\n",
       "      <th>previous</th>\n",
       "      <th>emp.var.rate</th>\n",
       "      <th>cons.price.idx</th>\n",
       "      <th>cons.conf.idx</th>\n",
       "      <th>euribor3m</th>\n",
       "      <th>nr.employed</th>\n",
       "      <th>y</th>\n",
       "    </tr>\n",
       "  </thead>\n",
       "  <tbody>\n",
       "    <tr>\n",
       "      <th>count</th>\n",
       "      <td>41188.00000</td>\n",
       "      <td>41188.000000</td>\n",
       "      <td>41188.000000</td>\n",
       "      <td>41188.000000</td>\n",
       "      <td>41188.000000</td>\n",
       "      <td>41188.000000</td>\n",
       "      <td>41188.000000</td>\n",
       "      <td>41188.000000</td>\n",
       "      <td>41188.000000</td>\n",
       "      <td>41188.000000</td>\n",
       "      <td>41188.000000</td>\n",
       "    </tr>\n",
       "    <tr>\n",
       "      <th>mean</th>\n",
       "      <td>40.02406</td>\n",
       "      <td>258.285010</td>\n",
       "      <td>2.567593</td>\n",
       "      <td>962.475454</td>\n",
       "      <td>0.172963</td>\n",
       "      <td>0.081886</td>\n",
       "      <td>93.575664</td>\n",
       "      <td>-40.502600</td>\n",
       "      <td>3.621291</td>\n",
       "      <td>5167.035911</td>\n",
       "      <td>0.112654</td>\n",
       "    </tr>\n",
       "    <tr>\n",
       "      <th>std</th>\n",
       "      <td>10.42125</td>\n",
       "      <td>259.279249</td>\n",
       "      <td>2.770014</td>\n",
       "      <td>186.910907</td>\n",
       "      <td>0.494901</td>\n",
       "      <td>1.570960</td>\n",
       "      <td>0.578840</td>\n",
       "      <td>4.628198</td>\n",
       "      <td>1.734447</td>\n",
       "      <td>72.251528</td>\n",
       "      <td>0.316173</td>\n",
       "    </tr>\n",
       "    <tr>\n",
       "      <th>min</th>\n",
       "      <td>17.00000</td>\n",
       "      <td>0.000000</td>\n",
       "      <td>1.000000</td>\n",
       "      <td>0.000000</td>\n",
       "      <td>0.000000</td>\n",
       "      <td>-3.400000</td>\n",
       "      <td>92.201000</td>\n",
       "      <td>-50.800000</td>\n",
       "      <td>0.634000</td>\n",
       "      <td>4963.600000</td>\n",
       "      <td>0.000000</td>\n",
       "    </tr>\n",
       "    <tr>\n",
       "      <th>25%</th>\n",
       "      <td>32.00000</td>\n",
       "      <td>102.000000</td>\n",
       "      <td>1.000000</td>\n",
       "      <td>999.000000</td>\n",
       "      <td>0.000000</td>\n",
       "      <td>-1.800000</td>\n",
       "      <td>93.075000</td>\n",
       "      <td>-42.700000</td>\n",
       "      <td>1.344000</td>\n",
       "      <td>5099.100000</td>\n",
       "      <td>0.000000</td>\n",
       "    </tr>\n",
       "    <tr>\n",
       "      <th>50%</th>\n",
       "      <td>38.00000</td>\n",
       "      <td>180.000000</td>\n",
       "      <td>2.000000</td>\n",
       "      <td>999.000000</td>\n",
       "      <td>0.000000</td>\n",
       "      <td>1.100000</td>\n",
       "      <td>93.749000</td>\n",
       "      <td>-41.800000</td>\n",
       "      <td>4.857000</td>\n",
       "      <td>5191.000000</td>\n",
       "      <td>0.000000</td>\n",
       "    </tr>\n",
       "    <tr>\n",
       "      <th>75%</th>\n",
       "      <td>47.00000</td>\n",
       "      <td>319.000000</td>\n",
       "      <td>3.000000</td>\n",
       "      <td>999.000000</td>\n",
       "      <td>0.000000</td>\n",
       "      <td>1.400000</td>\n",
       "      <td>93.994000</td>\n",
       "      <td>-36.400000</td>\n",
       "      <td>4.961000</td>\n",
       "      <td>5228.100000</td>\n",
       "      <td>0.000000</td>\n",
       "    </tr>\n",
       "    <tr>\n",
       "      <th>max</th>\n",
       "      <td>98.00000</td>\n",
       "      <td>4918.000000</td>\n",
       "      <td>56.000000</td>\n",
       "      <td>999.000000</td>\n",
       "      <td>7.000000</td>\n",
       "      <td>1.400000</td>\n",
       "      <td>94.767000</td>\n",
       "      <td>-26.900000</td>\n",
       "      <td>5.045000</td>\n",
       "      <td>5228.100000</td>\n",
       "      <td>1.000000</td>\n",
       "    </tr>\n",
       "  </tbody>\n",
       "</table>\n",
       "</div>"
      ],
      "text/plain": [
       "               age      duration      campaign         pdays      previous  \\\n",
       "count  41188.00000  41188.000000  41188.000000  41188.000000  41188.000000   \n",
       "mean      40.02406    258.285010      2.567593    962.475454      0.172963   \n",
       "std       10.42125    259.279249      2.770014    186.910907      0.494901   \n",
       "min       17.00000      0.000000      1.000000      0.000000      0.000000   \n",
       "25%       32.00000    102.000000      1.000000    999.000000      0.000000   \n",
       "50%       38.00000    180.000000      2.000000    999.000000      0.000000   \n",
       "75%       47.00000    319.000000      3.000000    999.000000      0.000000   \n",
       "max       98.00000   4918.000000     56.000000    999.000000      7.000000   \n",
       "\n",
       "       emp.var.rate  cons.price.idx  cons.conf.idx     euribor3m  \\\n",
       "count  41188.000000    41188.000000   41188.000000  41188.000000   \n",
       "mean       0.081886       93.575664     -40.502600      3.621291   \n",
       "std        1.570960        0.578840       4.628198      1.734447   \n",
       "min       -3.400000       92.201000     -50.800000      0.634000   \n",
       "25%       -1.800000       93.075000     -42.700000      1.344000   \n",
       "50%        1.100000       93.749000     -41.800000      4.857000   \n",
       "75%        1.400000       93.994000     -36.400000      4.961000   \n",
       "max        1.400000       94.767000     -26.900000      5.045000   \n",
       "\n",
       "        nr.employed             y  \n",
       "count  41188.000000  41188.000000  \n",
       "mean    5167.035911      0.112654  \n",
       "std       72.251528      0.316173  \n",
       "min     4963.600000      0.000000  \n",
       "25%     5099.100000      0.000000  \n",
       "50%     5191.000000      0.000000  \n",
       "75%     5228.100000      0.000000  \n",
       "max     5228.100000      1.000000  "
      ]
     },
     "execution_count": 5,
     "metadata": {},
     "output_type": "execute_result"
    }
   ],
   "source": [
    "dataset.describe()"
   ]
  },
  {
   "cell_type": "markdown",
   "metadata": {},
   "source": [
    "# Vamos fazer uma análise das idades dos clientes desse Banco"
   ]
  },
  {
   "cell_type": "code",
   "execution_count": 6,
   "metadata": {},
   "outputs": [
    {
     "data": {
      "text/plain": [
       "<matplotlib.axes._subplots.AxesSubplot at 0x17a8bf53e50>"
      ]
     },
     "execution_count": 6,
     "metadata": {},
     "output_type": "execute_result"
    },
    {
     "data": {
      "image/png": "[encoded data removed]",
      "text/plain": [
       "<Figure size 432x288 with 1 Axes>"
      ]
     },
     "metadata": {
      "needs_background": "light"
     },
     "output_type": "display_data"
    }
   ],
   "source": [
    "sns.distplot(dataset['age'], hist = True, color = \"#5BFF33\", hist_kws = {'edgecolor':'black'})"
   ]
  },
  {
   "cell_type": "markdown",
   "metadata": {},
   "source": [
    "### Para melhor avaliar essa base de dados irei criar duas sub bases contendo apenas pessoas \"Yes\" e pessoas \"No\""
   ]
  },
  {
   "cell_type": "code",
   "execution_count": 7,
   "metadata": {},
   "outputs": [],
   "source": [
    "##########################################################\n",
    "##### Criando um base só com Pessoas \"yes\"  ##############\n",
    "##########################################################\n",
    "\n",
    "dataset_yes=dataset.loc[dataset['y']==1]\n",
    "\n",
    "##########################################################\n",
    "##### Criando um base só com Pessoas \"No\"  ###############\n",
    "##########################################################\n",
    "\n",
    "dataset_no=dataset.loc[dataset['y']==0]"
   ]
  },
  {
   "cell_type": "code",
   "execution_count": 8,
   "metadata": {},
   "outputs": [
    {
     "data": {
      "image/png": "[encoded data removed]",
      "text/plain": [
       "<Figure size 1440x360 with 2 Axes>"
      ]
     },
     "metadata": {
      "needs_background": "light"
     },
     "output_type": "display_data"
    }
   ],
   "source": [
    "fig, (ax1, ax2) = plt.subplots(nrows = 1, ncols =2, figsize = (20, 5));\n",
    "sns.distplot(dataset_yes['age'], hist = True, ax = ax1, color = \"#07247D\", hist_kws = {'edgecolor':'black'},label=\"idade\");\n",
    "\n",
    "sns.distplot(dataset_no['age'], hist = True, ax = ax2, color = \"#FF5733\", hist_kws = {'edgecolor':'black'});"
   ]
  },
  {
   "cell_type": "markdown",
   "metadata": {},
   "source": [
    "Podemos observar nos histogramas acima que uma pessoa acima de 60 anos tem a maior probabilidade de aceitar esse produto"
   ]
  },
  {
   "cell_type": "markdown",
   "metadata": {},
   "source": [
    "# Visualizando o Status Civil do Cliente"
   ]
  },
  {
   "cell_type": "code",
   "execution_count": 9,
   "metadata": {},
   "outputs": [
    {
     "data": {
      "text/plain": [
       "<matplotlib.legend.Legend at 0x17a8edcd850>"
      ]
     },
     "execution_count": 9,
     "metadata": {},
     "output_type": "execute_result"
    },
    {
     "data": {
      "image/png": "[encoded data removed]",
      "text/plain": [
       "<Figure size 1440x360 with 2 Axes>"
      ]
     },
     "metadata": {
      "needs_background": "light"
     },
     "output_type": "display_data"
    }
   ],
   "source": [
    "fig, (ax1, ax2) = plt.subplots(nrows = 1, ncols =2, figsize = (20, 5));\n",
    "\n",
    "# First plot for marital status\n",
    "sns.countplot(x = \"marital\", data = dataset, ax = ax1, color = \"#5BFF33\",order = dataset['marital'].value_counts().index);\n",
    "sns.countplot(x = \"marital\", data = dataset_yes, ax = ax1,color = \"#07247D\",order = dataset['marital'].value_counts().index);\n",
    "ax1.set_title(\"Marital status distribution\", fontsize = 13);\n",
    "ax1.set_xlabel(\"Marital Status\", fontsize = 12);\n",
    "ax1.set_ylabel(\"Count\", fontsize = 12);\n",
    "ax1.legend(['All Cases','Yes Cases'])\n",
    "\n",
    "# Second plot for marital status\n",
    "sns.countplot(x = \"marital\", data = dataset, ax = ax2, color = \"#5BFF33\",order = dataset['marital'].value_counts().index);\n",
    "sns.countplot(x = \"marital\", data = dataset_no, ax = ax2,color = \"#FF5733\",order = dataset['marital'].value_counts().index);\n",
    "ax2.set_title(\"Marital status distribution\", fontsize = 13);\n",
    "ax2.set_xlabel(\"Marital Status\", fontsize = 12);\n",
    "ax2.set_ylabel(\"Count\", fontsize = 12);\n",
    "ax2.legend(['All Cases','No Cases'])\n",
    "\n"
   ]
  },
  {
   "cell_type": "markdown",
   "metadata": {},
   "source": [
    "Avaliando os histogramas acima, podemos concluir que a base esta desbalanceada uma vez que temos muito mais casos Negativos do que dados Positivos."
   ]
  },
  {
   "cell_type": "markdown",
   "metadata": {},
   "source": [
    "# Visualizando o nível de Instrução"
   ]
  },
  {
   "cell_type": "code",
   "execution_count": 10,
   "metadata": {},
   "outputs": [
    {
     "data": {
      "text/plain": [
       "education\n",
       "basic.4y                4176\n",
       "basic.6y                2292\n",
       "basic.9y                6045\n",
       "high.school             9515\n",
       "illiterate                18\n",
       "professional.course     5243\n",
       "university.degree      12168\n",
       "unknown                 1731\n",
       "Name: education, dtype: int64"
      ]
     },
     "execution_count": 10,
     "metadata": {},
     "output_type": "execute_result"
    }
   ],
   "source": [
    "dataset.groupby(\"education\")[\"education\"].count()"
   ]
  },
  {
   "cell_type": "code",
   "execution_count": 11,
   "metadata": {},
   "outputs": [
    {
     "data": {
      "text/plain": [
       "Index(['university.degree', 'high.school', 'basic.9y', 'professional.course',\n",
       "       'basic.4y', 'basic.6y', 'unknown', 'illiterate'],\n",
       "      dtype='object')"
      ]
     },
     "execution_count": 11,
     "metadata": {},
     "output_type": "execute_result"
    }
   ],
   "source": [
    "dataset[ \"education\"].value_counts().index"
   ]
  },
  {
   "cell_type": "code",
   "execution_count": 12,
   "metadata": {},
   "outputs": [
    {
     "data": {
      "text/plain": [
       "<matplotlib.legend.Legend at 0x17a8eeb36a0>"
      ]
     },
     "execution_count": 12,
     "metadata": {},
     "output_type": "execute_result"
    },
    {
     "data": {
      "image/png": "[encoded data removed]",
      "text/plain": [
       "<Figure size 1440x360 with 2 Axes>"
      ]
     },
     "metadata": {
      "needs_background": "light"
     },
     "output_type": "display_data"
    }
   ],
   "source": [
    "fig, (ax1, ax2) = plt.subplots(nrows = 1, ncols =2, figsize = (20, 5));\n",
    "order=['university.degree','professional.course','high.school','basic.9y','basic.6y','basic.4y','illiterate','unknown']\n",
    "# First plot for Education distribution\n",
    "sns.countplot(x = \"education\", data = dataset, ax = ax1, color =\"#5BFF33\",order = order);\n",
    "sns.countplot(x = \"education\", data = dataset_yes, ax = ax1,color = \"#07247D\",order =order );\n",
    "ax1.set_title(\"Education distribution\", fontsize = 13);\n",
    "ax1.set_xlabel(\"Education level\", fontsize = 12);\n",
    "ax1.set_ylabel(\"Count\", fontsize = 12);\n",
    "ax1.set_xticklabels(ax1.get_xticklabels(), rotation = 70);\n",
    "ax1.legend(['All Cases','Yes Cases'])\n",
    "# Second plot for Education distribution\n",
    "sns.countplot(x = \"education\", data = dataset, ax = ax2, color =\"#5BFF33\",order = order);\n",
    "sns.countplot(x = \"education\", data = dataset_no, ax = ax2,color = \"#FF5733\",order = order);\n",
    "ax2.set_title(\"Education distribution \", fontsize = 13);\n",
    "ax2.set_xlabel(\"Education level\", fontsize = 12);\n",
    "ax2.set_ylabel(\"Count\", fontsize = 12);\n",
    "ax2.set_xticklabels(ax2.get_xticklabels(), rotation = 70);\n",
    "ax2.legend(['All Cases','No Cases'])\n"
   ]
  },
  {
   "cell_type": "markdown",
   "metadata": {},
   "source": [
    "# Visualizando os empregos do clientes"
   ]
  },
  {
   "cell_type": "code",
   "execution_count": 13,
   "metadata": {},
   "outputs": [
    {
     "data": {
      "text/plain": [
       "admin.           10422\n",
       "blue-collar       9254\n",
       "technician        6743\n",
       "services          3969\n",
       "management        2924\n",
       "retired           1720\n",
       "entrepreneur      1456\n",
       "self-employed     1421\n",
       "housemaid         1060\n",
       "unemployed        1014\n",
       "student            875\n",
       "unknown            330\n",
       "Name: job, dtype: int64"
      ]
     },
     "execution_count": 13,
     "metadata": {},
     "output_type": "execute_result"
    }
   ],
   "source": [
    "dataset[ \"job\"].value_counts()"
   ]
  },
  {
   "cell_type": "code",
   "execution_count": 14,
   "metadata": {},
   "outputs": [
    {
     "name": "stdout",
     "output_type": "stream",
     "text": [
      "['admin.', 'blue-collar', 'technician', 'services', 'management', 'retired', 'entrepreneur', 'self-employed', 'housemaid', 'unemployed', 'student', 'unknown']\n",
      "[ 428  188  473 1031    4  595 1670  251]\n"
     ]
    }
   ],
   "source": [
    "dataset[ \"job\"].value_counts().index\n",
    "labels =['admin.', 'blue-collar', 'technician', 'services', 'management','retired', 'entrepreneur', 'self-employed', 'housemaid', 'unemployed','student', 'unknown']\n",
    "print(labels)\n",
    "men_means = dataset_yes.groupby(\"education\")[\"education\"].count().values\n",
    "print(men_means)"
   ]
  },
  {
   "cell_type": "code",
   "execution_count": 15,
   "metadata": {},
   "outputs": [
    {
     "data": {
      "image/png": "[encoded data removed]",
      "text/plain": [
       "<Figure size 1080x360 with 1 Axes>"
      ]
     },
     "metadata": {
      "needs_background": "light"
     },
     "output_type": "display_data"
    }
   ],
   "source": [
    "fig, ax = plt.subplots()\n",
    "fig.set_size_inches(15,5)\n",
    "sns.countplot(x = \"job\", data = dataset,color =\"#5BFF33\", order=labels);\n",
    "sns.countplot(x = \"job\", data = dataset_yes,color =\"#07247D\", order=labels);\n",
    "#sns.countplot(x = \"job\", data = dataset_no,color =\"#FF5733\");\n",
    "ax.set_xlabel('Empregos', fontsize = 12);\n",
    "ax.set_ylabel('Quantidade', fontsize = 12);\n",
    "ax.legend(['All Cases','Yes Cases'])\n",
    "ax.set_title(\"Distribuição da quantidade de clientes com relação ao total e seus respectivos empregos\", fontsize = 13);"
   ]
  },
  {
   "cell_type": "code",
   "execution_count": 16,
   "metadata": {},
   "outputs": [
    {
     "data": {
      "image/png": "[encoded data removed]",
      "text/plain": [
       "<Figure size 1080x360 with 1 Axes>"
      ]
     },
     "metadata": {
      "needs_background": "light"
     },
     "output_type": "display_data"
    }
   ],
   "source": [
    "fig, ax = plt.subplots()\n",
    "fig.set_size_inches(15,5)\n",
    "sns.countplot(x = \"job\", data = dataset,color =\"#5BFF33\", order=labels);\n",
    "#sns.countplot(x = \"job\", data = dataset_yes,color =\"#07247D\");\n",
    "sns.countplot(x = \"job\", data = dataset_no,color =\"#FF5733\", order=labels);\n",
    "ax.set_xlabel('Empregos', fontsize = 12);\n",
    "ax.set_ylabel('Quantidade', fontsize = 12);\n",
    "ax.legend(['All Cases','No Cases'])\n",
    "ax.set_title(\"Distribuição da quantidade de clientes com relação ao total e seus respectivos empregos\", fontsize = 13);"
   ]
  },
  {
   "cell_type": "markdown",
   "metadata": {},
   "source": [
    "Novamente, devido a base estar muito desbalanceada, não podemos retirar nenhuma correlação explicita entre a profissao do usuário e saber se ele vai ser sucetível a campanha ou não "
   ]
  },
  {
   "cell_type": "markdown",
   "metadata": {},
   "source": [
    "# Analisando se o Cliente já possuia algum Crédito Aprovado"
   ]
  },
  {
   "cell_type": "code",
   "execution_count": 17,
   "metadata": {},
   "outputs": [
    {
     "data": {
      "text/plain": [
       "default\n",
       "no         32588\n",
       "unknown     8597\n",
       "yes            3\n",
       "Name: default, dtype: int64"
      ]
     },
     "execution_count": 17,
     "metadata": {},
     "output_type": "execute_result"
    },
    {
     "data": {
      "image/png": "[encoded data removed]",
      "text/plain": [
       "<Figure size 1440x360 with 2 Axes>"
      ]
     },
     "metadata": {
      "needs_background": "light"
     },
     "output_type": "display_data"
    }
   ],
   "source": [
    "fig, (ax1, ax2) = plt.subplots(nrows = 1, ncols =2, figsize = (20, 5));\n",
    "\n",
    "# First plot for Credit default\n",
    "sns.countplot(x = \"default\", data = dataset, ax = ax1, color = \"#5BFF33\",order = dataset['default'].value_counts().index);\n",
    "sns.countplot(x = \"default\", data = dataset_yes, ax = ax1,color = \"#07247D\",order = dataset['default'].value_counts().index);\n",
    "ax1.set_title(\"Credit default distribution \", fontsize = 13);\n",
    "ax1.set_xlabel(\"Credit default Status\", fontsize = 12);\n",
    "ax1.set_ylabel(\"Count\", fontsize = 12);\n",
    "ax1.legend(['All Cases','Yes Cases']);\n",
    "\n",
    "# Second plot for Credit default\n",
    "sns.countplot(x = \"default\", data = dataset, ax = ax2, color = \"#5BFF33\",order = dataset['default'].value_counts().index);\n",
    "sns.countplot(x = \"default\", data = dataset_no, ax = ax2,color = \"#FF5733\",order = dataset['default'].value_counts().index);\n",
    "ax2.set_title(\"Credit default distribution\", fontsize = 13);\n",
    "ax2.set_xlabel(\"Credit default Status\", fontsize = 12);\n",
    "ax2.set_ylabel(\"Count\", fontsize = 12);\n",
    "ax2.legend(['All Cases','No Cases']);\n",
    "\n",
    "dataset.groupby(\"default\")[\"default\"].count()\n"
   ]
  },
  {
   "cell_type": "code",
   "execution_count": 18,
   "metadata": {},
   "outputs": [
    {
     "name": "stdout",
     "output_type": "stream",
     "text": [
      "Valores para caso SIM\n",
      "default\n",
      "no         4197\n",
      "unknown     443\n",
      "Name: default, dtype: int64\n",
      "Valores para caso Não\n",
      "default\n",
      "no         28391\n",
      "unknown     8154\n",
      "yes            3\n",
      "Name: default, dtype: int64\n"
     ]
    }
   ],
   "source": [
    "print('Valores para caso SIM')\n",
    "print(dataset_yes.groupby(\"default\")[\"default\"].count())\n",
    "\n",
    "print('Valores para caso Não')\n",
    "print(dataset_no.groupby(\"default\")[\"default\"].count())\n"
   ]
  },
  {
   "cell_type": "code",
   "execution_count": 19,
   "metadata": {},
   "outputs": [
    {
     "name": "stdout",
     "output_type": "stream",
     "text": [
      "Percentual de Unknown Cases that gives No\n",
      "94.84703966499943\n",
      "Percentual de No Cases that gives No\n",
      "87.1210261445931\n"
     ]
    }
   ],
   "source": [
    "Unknown_cases=(8154/8597)*100\n",
    "No_cases=(28391/32588)*100\n",
    "print('Percentual de Unknown Cases that gives No')\n",
    "print(Unknown_cases)\n",
    "print('Percentual de No Cases that gives No')\n",
    "print(No_cases)"
   ]
  },
  {
   "cell_type": "markdown",
   "metadata": {},
   "source": [
    "Analisando esse critério, podemos ver novamente o efeito de desbalanceamento da base. Entretanto podemos ver que quase 95% dos casos que eram \"UNKNOWN\" deram não e 87% dos casos que eram \"NO\" deram não."
   ]
  },
  {
   "cell_type": "markdown",
   "metadata": {},
   "source": [
    "# Analisando se o Cliente já possuia Crédito imobiliário Aprovado"
   ]
  },
  {
   "cell_type": "code",
   "execution_count": 20,
   "metadata": {},
   "outputs": [
    {
     "data": {
      "text/plain": [
       "housing\n",
       "no         18622\n",
       "unknown      990\n",
       "yes        21576\n",
       "Name: housing, dtype: int64"
      ]
     },
     "execution_count": 20,
     "metadata": {},
     "output_type": "execute_result"
    },
    {
     "data": {
      "image/png": "[encoded data removed]",
      "text/plain": [
       "<Figure size 1440x360 with 2 Axes>"
      ]
     },
     "metadata": {
      "needs_background": "light"
     },
     "output_type": "display_data"
    }
   ],
   "source": [
    "fig, (ax1, ax2) = plt.subplots(nrows = 1, ncols =2, figsize = (20, 5));\n",
    "\n",
    "# Second plot for Credit default\n",
    "sns.countplot(x = \"housing\", data = dataset, ax = ax1, color = \"#5BFF33\",order = dataset['housing'].value_counts().index);\n",
    "sns.countplot(x = \"housing\", data = dataset_yes, ax = ax1,color = \"#07247D\",order = dataset['housing'].value_counts().index);\n",
    "ax1.set_title(\"Housing Loan distribution \", fontsize = 13);\n",
    "ax1.set_xlabel(\"Housing Loan Status\", fontsize = 12);\n",
    "ax1.set_ylabel(\"Count\", fontsize = 12);\n",
    "ax1.legend(['All Cases','Yes Cases']);\n",
    "\n",
    "# Third plot for Credit default\n",
    "sns.countplot(x = \"housing\", data = dataset, ax = ax2, color = \"#5BFF33\",order = dataset['housing'].value_counts().index);\n",
    "sns.countplot(x = \"housing\", data = dataset_no, ax = ax2,color = \"#FF5733\",order = dataset['housing'].value_counts().index);\n",
    "ax2.set_title(\"Housing Loan distribution \", fontsize = 13);\n",
    "ax2.set_xlabel(\"Housing Loan Status\", fontsize = 12);\n",
    "ax2.set_ylabel(\"Count\", fontsize = 12);\n",
    "ax2.legend(['All Cases','No Cases']);\n",
    "\n",
    "dataset.groupby(\"housing\")[\"housing\"].count()"
   ]
  },
  {
   "cell_type": "markdown",
   "metadata": {},
   "source": [
    "# Analisando se o Cliente já possuia Crédito Pessoal Aprovado"
   ]
  },
  {
   "cell_type": "code",
   "execution_count": 21,
   "metadata": {},
   "outputs": [
    {
     "data": {
      "image/png": "[encoded data removed]",
      "text/plain": [
       "<Figure size 1440x360 with 2 Axes>"
      ]
     },
     "metadata": {
      "needs_background": "light"
     },
     "output_type": "display_data"
    }
   ],
   "source": [
    "fig, (ax1, ax2) = plt.subplots(nrows = 1, ncols =2, figsize = (20, 5));\n",
    "\n",
    "# Second plot for Credit default\n",
    "sns.countplot(x = \"loan\", data = dataset, ax = ax1, color = \"#5BFF33\",order = dataset['loan'].value_counts().index);\n",
    "sns.countplot(x = \"loan\", data = dataset_yes, ax = ax1,color = \"#07247D\",order = dataset['loan'].value_counts().index);\n",
    "ax1.set_title(\"Personal Loan distribution\", fontsize = 13);\n",
    "ax1.set_xlabel(\"Personal Loan Status\", fontsize = 12);\n",
    "ax1.set_ylabel(\"Count\", fontsize = 12);\n",
    "ax1.legend(['All Cases','Yes Cases']);\n",
    "\n",
    "# Third plot for Credit default\n",
    "sns.countplot(x = \"loan\", data = dataset, ax = ax2, color = \"#5BFF33\",order = dataset['loan'].value_counts().index);\n",
    "sns.countplot(x = \"loan\", data = dataset_no, ax = ax2,color = \"#FF5733\",order = dataset['loan'].value_counts().index);\n",
    "ax2.set_title(\"Personal Loan distribution\", fontsize = 13);\n",
    "ax2.set_xlabel(\"Personal Loan Status\", fontsize = 12);\n",
    "ax2.set_ylabel(\"Count\", fontsize = 12);\n",
    "ax2.legend(['All Cases','No Cases']);"
   ]
  },
  {
   "cell_type": "markdown",
   "metadata": {},
   "source": [
    "Analisando os Histogramas acima podemos perceber que dos clientes que foram positivos a maioria não tinha nenhum credito pessoal prévio"
   ]
  },
  {
   "cell_type": "markdown",
   "metadata": {},
   "source": [
    "# Meio de contato"
   ]
  },
  {
   "cell_type": "code",
   "execution_count": 22,
   "metadata": {},
   "outputs": [
    {
     "data": {
      "text/plain": [
       "contact\n",
       "cellular     26144\n",
       "telephone    15044\n",
       "Name: contact, dtype: int64"
      ]
     },
     "execution_count": 22,
     "metadata": {},
     "output_type": "execute_result"
    },
    {
     "data": {
      "image/png": "[encoded data removed]",
      "text/plain": [
       "<Figure size 1440x360 with 2 Axes>"
      ]
     },
     "metadata": {
      "needs_background": "light"
     },
     "output_type": "display_data"
    }
   ],
   "source": [
    "fig, (ax1, ax2) = plt.subplots(nrows = 1, ncols =2, figsize = (20, 5));\n",
    "\n",
    "# First plot for Credit default\n",
    "sns.countplot(x = \"contact\", data = dataset, ax = ax1, color = \"#5BFF33\",order = dataset['contact'].value_counts().index);\n",
    "sns.countplot(x = \"contact\", data = dataset_yes, ax = ax1,color = \"#07247D\",order = dataset['contact'].value_counts().index);\n",
    "ax1.set_title(\"contact communication distribution\", fontsize = 13);\n",
    "ax1.set_xlabel(\"contact communication Status\", fontsize = 12);\n",
    "ax1.set_ylabel(\"Count\", fontsize = 12);\n",
    "ax1.legend(['All Cases','Yes Cases']);\n",
    "\n",
    "# Second plot for Credit default\n",
    "sns.countplot(x = \"contact\", data = dataset, ax = ax2, color = \"#5BFF33\",order = dataset['contact'].value_counts().index);\n",
    "sns.countplot(x = \"contact\", data = dataset_no, ax = ax2,color = \"#FF5733\",order = dataset['contact'].value_counts().index);\n",
    "ax2.set_title(\"contact communication distribution\", fontsize = 13);\n",
    "ax2.set_xlabel(\"contact communication Status\", fontsize = 12);\n",
    "ax2.set_ylabel(\"Count\", fontsize = 12);\n",
    "ax2.legend(['All Cases','No Cases']);\n",
    "\n",
    "dataset.groupby(\"contact\")[\"contact\"].count()"
   ]
  },
  {
   "cell_type": "markdown",
   "metadata": {},
   "source": [
    "Analisando esse parâmetro podemos ver que a maioria dos contatos foram feitos pelo celular"
   ]
  },
  {
   "cell_type": "markdown",
   "metadata": {},
   "source": [
    "#  Ultimo mês de contato no ano"
   ]
  },
  {
   "cell_type": "code",
   "execution_count": 23,
   "metadata": {},
   "outputs": [],
   "source": [
    "dataset['month'].value_counts().index\n",
    "labels_months=[ 'mar','apr','may', 'jun', 'jul', 'aug', 'sep', 'oct', 'nov',  'dec']\n"
   ]
  },
  {
   "cell_type": "code",
   "execution_count": 24,
   "metadata": {},
   "outputs": [
    {
     "name": "stdout",
     "output_type": "stream",
     "text": [
      "month\n",
      "apr     2632\n",
      "aug     6178\n",
      "dec      182\n",
      "jul     7174\n",
      "jun     5318\n",
      "mar      546\n",
      "may    13769\n",
      "nov     4101\n",
      "oct      718\n",
      "sep      570\n",
      "Name: month, dtype: int64\n"
     ]
    },
    {
     "data": {
      "image/png": "[encoded data removed]",
      "text/plain": [
       "<Figure size 1440x360 with 2 Axes>"
      ]
     },
     "metadata": {
      "needs_background": "light"
     },
     "output_type": "display_data"
    }
   ],
   "source": [
    "fig, (ax1, ax2) = plt.subplots(nrows = 1, ncols =2, figsize = (20, 5));\n",
    "\n",
    "# First plot for Credit default\n",
    "sns.countplot(x = \"month\", data = dataset, ax = ax1, color = \"#5BFF33\", order=labels_months);\n",
    "sns.countplot(x = \"month\", data = dataset_yes, ax = ax1,color = \"#07247D\", order=labels_months);\n",
    "ax1.set_title(\"last contact month of year distribution \", fontsize = 13);\n",
    "ax1.set_xlabel(\"Month of Year\", fontsize = 12);\n",
    "ax1.set_ylabel(\"Count\", fontsize = 12);\n",
    "ax1.legend(['All Cases','Yes Cases']);\n",
    "\n",
    "# Second plot for Credit default\n",
    "sns.countplot(x = \"month\", data = dataset, ax = ax2, color = \"#5BFF33\", order=labels_months);\n",
    "sns.countplot(x = \"month\", data = dataset_no, ax = ax2,color = \"#FF5733\", order=labels_months);\n",
    "ax2.set_title(\"last contact month of year distribution \", fontsize = 13);\n",
    "ax2.set_xlabel(\"Month of Year\", fontsize = 12);\n",
    "ax2.set_ylabel(\"Count\", fontsize = 12);\n",
    "ax2.legend(['All Cases','No Cases']);\n",
    "\n",
    "\n",
    "all_cases=dataset.groupby(\"month\")[\"month\"].count()\n",
    "print(all_cases)"
   ]
  },
  {
   "cell_type": "code",
   "execution_count": 25,
   "metadata": {},
   "outputs": [],
   "source": [
    "yes_cases=dataset_yes.groupby(\"month\")[\"month\"].count()\n",
    "no_cases=dataset_no.groupby(\"month\")[\"month\"].count()\n",
    "#print('Casos Yes')\n",
    "#print(yes_cases)\n",
    "#print('Casos No')\n",
    "#print(no_cases)\n",
    "Result_yes=[]\n",
    "Result_no=[]"
   ]
  },
  {
   "cell_type": "code",
   "execution_count": 26,
   "metadata": {},
   "outputs": [
    {
     "data": {
      "text/html": [
       "<div>\n",
       "<style scoped>\n",
       "    .dataframe tbody tr th:only-of-type {\n",
       "        vertical-align: middle;\n",
       "    }\n",
       "\n",
       "    .dataframe tbody tr th {\n",
       "        vertical-align: top;\n",
       "    }\n",
       "\n",
       "    .dataframe thead th {\n",
       "        text-align: right;\n",
       "    }\n",
       "</style>\n",
       "<table border=\"1\" class=\"dataframe\">\n",
       "  <thead>\n",
       "    <tr style=\"text-align: right;\">\n",
       "      <th></th>\n",
       "      <th>Months</th>\n",
       "      <th>No cases</th>\n",
       "      <th>Yes cases</th>\n",
       "    </tr>\n",
       "  </thead>\n",
       "  <tbody>\n",
       "    <tr>\n",
       "      <th>0</th>\n",
       "      <td>mar</td>\n",
       "      <td>0.494505</td>\n",
       "      <td>0.505495</td>\n",
       "    </tr>\n",
       "    <tr>\n",
       "      <th>1</th>\n",
       "      <td>apr</td>\n",
       "      <td>0.795213</td>\n",
       "      <td>0.204787</td>\n",
       "    </tr>\n",
       "    <tr>\n",
       "      <th>2</th>\n",
       "      <td>may</td>\n",
       "      <td>0.935653</td>\n",
       "      <td>0.064347</td>\n",
       "    </tr>\n",
       "    <tr>\n",
       "      <th>3</th>\n",
       "      <td>jun</td>\n",
       "      <td>0.894885</td>\n",
       "      <td>0.105115</td>\n",
       "    </tr>\n",
       "    <tr>\n",
       "      <th>4</th>\n",
       "      <td>jul</td>\n",
       "      <td>0.909534</td>\n",
       "      <td>0.090466</td>\n",
       "    </tr>\n",
       "  </tbody>\n",
       "</table>\n",
       "</div>"
      ],
      "text/plain": [
       "  Months  No cases  Yes cases\n",
       "0    mar  0.494505   0.505495\n",
       "1    apr  0.795213   0.204787\n",
       "2    may  0.935653   0.064347\n",
       "3    jun  0.894885   0.105115\n",
       "4    jul  0.909534   0.090466"
      ]
     },
     "execution_count": 26,
     "metadata": {},
     "output_type": "execute_result"
    }
   ],
   "source": [
    "Result_yes=[yes_cases[5]/all_cases[5],yes_cases[0]/all_cases[0],yes_cases[6]/all_cases[6],yes_cases[4]/all_cases[4],yes_cases[3]/all_cases[3],yes_cases[1]/all_cases[1],yes_cases[9]/all_cases[9],yes_cases[8]/all_cases[8],yes_cases[7]/all_cases[7],yes_cases[2]/all_cases[2]]\n",
    "Result_no=[no_cases[5]/all_cases[5],no_cases[0]/all_cases[0],no_cases[6]/all_cases[6],no_cases[4]/all_cases[4],no_cases[3]/all_cases[3],no_cases[1]/all_cases[1],no_cases[9]/all_cases[9],no_cases[8]/all_cases[8],no_cases[7]/all_cases[7],no_cases[2]/all_cases[2]]\n",
    "#Na primeira passada pode ativar essa parte de baixo\n",
    "frame = { 'Months': labels_months, 'No cases': Result_no,'Yes cases': Result_yes  }\n",
    "Month_analisys = pd.DataFrame(frame)\n",
    "Month_analisys.head()\n",
    "\n"
   ]
  },
  {
   "cell_type": "code",
   "execution_count": 27,
   "metadata": {},
   "outputs": [
    {
     "data": {
      "image/png": "[encoded data removed]",
      "text/plain": [
       "<Figure size 432x288 with 1 Axes>"
      ]
     },
     "metadata": {
      "needs_background": "light"
     },
     "output_type": "display_data"
    }
   ],
   "source": [
    "fig, ax = plt.subplots()\n",
    "ax.plot(Month_analisys['Months'], Month_analisys['No cases']*100,color = \"#FF5733\")\n",
    "ax.plot(Month_analisys['Months'], Month_analisys['Yes cases']*100,color = \"#07247D\")\n",
    "\n",
    "ax.set(xlabel='Months', ylabel='Percentual into the total',\n",
    "       title='Last Contact')\n",
    "ax.grid()\n",
    "ax.legend(['No Cases','Yes Cases']);\n",
    "plt.show()"
   ]
  },
  {
   "cell_type": "markdown",
   "metadata": {},
   "source": [
    "### Avaliando os meses de ultimo contato com os cliente, é notavel que há uma mudança no perfil de respostas dos clientes nos meses de Agosto a Outubro."
   ]
  },
  {
   "cell_type": "markdown",
   "metadata": {},
   "source": [
    "# Dias da Semana"
   ]
  },
  {
   "cell_type": "code",
   "execution_count": 28,
   "metadata": {},
   "outputs": [
    {
     "data": {
      "image/png": "[encoded data removed]",
      "text/plain": [
       "<Figure size 1440x360 with 2 Axes>"
      ]
     },
     "metadata": {
      "needs_background": "light"
     },
     "output_type": "display_data"
    }
   ],
   "source": [
    "labels_week=[ 'mon','tue','wed', 'thu', 'fri']\n",
    "\n",
    "fig, (ax1, ax2) = plt.subplots(nrows = 1, ncols =2, figsize = (20, 5));\n",
    "\n",
    "# First plot for Credit default\n",
    "sns.countplot(x = \"day_of_week\", data = dataset, ax = ax1, color = \"#5BFF33\",order = labels_week);\n",
    "sns.countplot(x = \"day_of_week\", data = dataset_yes, ax = ax1,color = \"#07247D\" ,order = labels_week);\n",
    "ax1.set_title(\"Days of the week distribution \", fontsize = 13);\n",
    "ax1.set_xlabel(\"Days of the week\", fontsize = 12);\n",
    "ax1.set_ylabel(\"Count\", fontsize = 12);\n",
    "ax1.legend(['All Cases','Yes Cases']);\n",
    "\n",
    "# Second plot for Credit default\n",
    "sns.countplot(x = \"day_of_week\", data = dataset, ax = ax2, color = \"#5BFF33\",order = labels_week);\n",
    "sns.countplot(x = \"day_of_week\", data = dataset_no, ax = ax2,color = \"#FF5733\",order = labels_week);\n",
    "ax2.set_title(\"Days of the week distribution\", fontsize = 13);\n",
    "ax2.set_xlabel(\"Days of the week\", fontsize = 12);\n",
    "ax2.set_ylabel(\"Count\", fontsize = 12);\n",
    "ax2.legend(['All Cases','No Cases']);"
   ]
  },
  {
   "cell_type": "markdown",
   "metadata": {},
   "source": [
    "# Avaliando a duração do ultimo contato"
   ]
  },
  {
   "cell_type": "code",
   "execution_count": 29,
   "metadata": {},
   "outputs": [
    {
     "data": {
      "image/png": "[encoded data removed]",
      "text/plain": [
       "<Figure size 1440x360 with 2 Axes>"
      ]
     },
     "metadata": {
      "needs_background": "light"
     },
     "output_type": "display_data"
    }
   ],
   "source": [
    "fig, (ax1, ax2) = plt.subplots(nrows = 1, ncols =2, figsize = (20, 5));\n",
    "sns.distplot(dataset_yes['duration'], hist = True, ax = ax1, color = \"#07247D\", hist_kws = {'edgecolor':'black'});\n",
    "ax1.set_title(\"Last contact duration\", fontsize = 13);\n",
    "ax1.legend(['Yes Cases']);\n",
    "sns.distplot(dataset_no['duration'], hist = True, ax = ax2, color = \"#FF5733\", hist_kws = {'edgecolor':'black'});\n",
    "ax2.set_title(\"Last contact duration\", fontsize = 13);\n",
    "ax2.legend(['No Cases']);"
   ]
  },
  {
   "cell_type": "markdown",
   "metadata": {},
   "source": [
    "### Com esses histogramas acima podemos analisar que contatos que passam de 1000 segundos, ou 17 minutos, tem grandes possibilidades de aceitar a proposta"
   ]
  },
  {
   "cell_type": "markdown",
   "metadata": {},
   "source": [
    "# Number of contacts performed during this campaign and for this client"
   ]
  },
  {
   "cell_type": "code",
   "execution_count": 30,
   "metadata": {},
   "outputs": [
    {
     "data": {
      "image/png": "[encoded data removed]",
      "text/plain": [
       "<Figure size 1440x360 with 2 Axes>"
      ]
     },
     "metadata": {
      "needs_background": "light"
     },
     "output_type": "display_data"
    }
   ],
   "source": [
    "fig, (ax1, ax2) = plt.subplots(nrows = 1, ncols =2, figsize = (20, 5));\n",
    "#sns.distplot(dataset['campaign'], hist = True, ax = ax1, color = \"#5BFF33\", hist_kws = {'edgecolor':'black'},kde = False);\n",
    "sns.distplot(dataset_yes['campaign'], hist = True, ax = ax1, color = \"#07247D\", hist_kws = {'edgecolor':'black'},kde = False);\n",
    "ax1.set_title(\"Campaign distribution\", fontsize = 13);\n",
    "ax1.set_xlabel(\"Number of contacts performed during this campaign\", fontsize = 12);\n",
    "ax1.set_ylabel(\"Count\", fontsize = 12);\n",
    "ax1.legend(['Yes Cases']);\n",
    "\n",
    "sns.distplot(dataset_no['duration'], hist = True, ax = ax2, color = \"#FF5733\", hist_kws = {'edgecolor':'black'},kde = False);\n",
    "ax2.set_title(\"Campaign distribution\", fontsize = 13);\n",
    "ax2.set_xlabel(\"Number of contacts performed during this campaign\", fontsize = 12);\n",
    "ax2.set_ylabel(\"Count\", fontsize = 12);\n",
    "ax2.legend(['No Cases']);"
   ]
  },
  {
   "cell_type": "code",
   "execution_count": 31,
   "metadata": {},
   "outputs": [
    {
     "data": {
      "image/png": "[encoded data removed]",
      "text/plain": [
       "<Figure size 1440x360 with 2 Axes>"
      ]
     },
     "metadata": {
      "needs_background": "light"
     },
     "output_type": "display_data"
    }
   ],
   "source": [
    "#df_diabetes.loc[df_diabetes['Result']==1]\n",
    "fig, (ax1, ax2) = plt.subplots(nrows = 1, ncols =2, figsize = (20, 5));\n",
    "sns.distplot(dataset_yes['campaign'].loc[dataset_yes['campaign']<50], hist = True, ax = ax1, color = \"#07247D\", hist_kws = {'edgecolor':'black'},kde = False);\n",
    "ax1.set_title(\"Campaign distribution (less than 100 times)\", fontsize = 13);\n",
    "ax1.set_xlabel(\"Number of contacts performed during this campaign\", fontsize = 12);\n",
    "ax1.set_ylabel(\"Count\", fontsize = 12);\n",
    "ax1.legend(['Yes Cases']);\n",
    "\n",
    "sns.distplot(dataset_no['campaign'].loc[dataset_no['campaign']<50], hist = True, ax = ax2, color = \"#FF5733\", hist_kws = {'edgecolor':'black'},kde = False);\n",
    "ax2.set_title(\"Campaign distribution (less than 100 times)\", fontsize = 13);\n",
    "ax2.set_xlabel(\"Number of contacts performed during this campaign\", fontsize = 12);\n",
    "ax2.set_ylabel(\"Count\", fontsize = 12);\n",
    "ax2.legend(['No Cases']);"
   ]
  },
  {
   "cell_type": "markdown",
   "metadata": {},
   "source": [
    "# Number of days that passed by after the client was last contacted from a previous campaign\n",
    "\n",
    "*999 means client was not previously contacted"
   ]
  },
  {
   "cell_type": "code",
   "execution_count": 32,
   "metadata": {},
   "outputs": [
    {
     "data": {
      "image/png": "[encoded data removed]",
      "text/plain": [
       "<Figure size 1440x360 with 2 Axes>"
      ]
     },
     "metadata": {
      "needs_background": "light"
     },
     "output_type": "display_data"
    }
   ],
   "source": [
    "fig, (ax1, ax2) = plt.subplots(nrows = 1, ncols =2, figsize = (20, 5));\n",
    "sns.distplot(dataset_yes['pdays'], hist = True, ax = ax1, color = \"#07247D\", hist_kws = {'edgecolor':'black'},kde = False);\n",
    "ax1.set_title(\"Days after the last contact distribution\", fontsize = 13);\n",
    "ax1.set_xlabel(\"Days\", fontsize = 12);\n",
    "ax1.set_ylabel(\"Count\", fontsize = 12);\n",
    "ax1.legend(['Yes Cases']);\n",
    "\n",
    "sns.distplot(dataset_no['pdays'], hist = True, ax = ax2, color = \"#FF5733\", hist_kws = {'edgecolor':'black'},kde = False);\n",
    "ax2.set_title(\"Days after the last contact distribution \", fontsize = 13);\n",
    "ax2.set_xlabel(\"Days\", fontsize = 12);\n",
    "ax2.set_ylabel(\"Count\", fontsize = 12);\n",
    "ax2.legend(['No Cases']);\n"
   ]
  },
  {
   "cell_type": "code",
   "execution_count": 33,
   "metadata": {},
   "outputs": [
    {
     "data": {
      "text/plain": [
       "24613     5\n",
       "25519     5\n",
       "25853     6\n",
       "27764    10\n",
       "27768     7\n",
       "Name: pdays, dtype: int64"
      ]
     },
     "execution_count": 33,
     "metadata": {},
     "output_type": "execute_result"
    }
   ],
   "source": [
    "#avaliando o comando para criar um filtro, uma vez que a o resultado 999, é para referir que o cliente não foi contactado previamente\n",
    "dataset_yes['pdays'].loc[dataset_yes['pdays']<100].head()"
   ]
  },
  {
   "cell_type": "code",
   "execution_count": 34,
   "metadata": {},
   "outputs": [
    {
     "data": {
      "image/png": "[encoded data removed]",
      "text/plain": [
       "<Figure size 1440x360 with 2 Axes>"
      ]
     },
     "metadata": {
      "needs_background": "light"
     },
     "output_type": "display_data"
    }
   ],
   "source": [
    "#Como era uma informação do Dataset que o numero 999 eram clientes que não foram contactados, fiz esse filtro para avaliar melhor os contactados\n",
    "fig, (ax1, ax2) = plt.subplots(nrows = 1, ncols =2, figsize = (20, 5));\n",
    "sns.distplot(dataset_yes['pdays'].loc[dataset_yes['pdays']<200], hist = True, ax = ax1, color = \"#07247D\", hist_kws = {'edgecolor':'black'},kde = False);\n",
    "ax1.set_title(\"Days after the last contact distribution (less than 100days)\", fontsize = 13);\n",
    "ax1.set_xlabel(\"Days\", fontsize = 12);\n",
    "ax1.set_ylabel(\"Count\", fontsize = 12);\n",
    "ax1.legend(['Yes Cases']);\n",
    "\n",
    "sns.distplot(dataset_no['pdays'].loc[dataset_no['pdays']<200], hist = True, ax = ax2, color = \"#FF5733\", hist_kws = {'edgecolor':'black'},kde = False);\n",
    "ax2.set_title(\"Days after the last contact distribution (less than 100days) \", fontsize = 13);\n",
    "ax2.set_xlabel(\"Days\", fontsize = 12);\n",
    "ax2.set_ylabel(\"Count\", fontsize = 12);\n",
    "ax2.legend(['No Cases']);"
   ]
  },
  {
   "cell_type": "markdown",
   "metadata": {},
   "source": [
    "##### Podemos observar que mesmo a base estando desbalancada, se o contato com o cliente for eficaz, a modo de não distanciar muito entre um contato e outro, temos grandes chances do cliente aceitar"
   ]
  },
  {
   "cell_type": "markdown",
   "metadata": {},
   "source": [
    "# Number of contacts performed before this campaign and for this client "
   ]
  },
  {
   "cell_type": "code",
   "execution_count": 35,
   "metadata": {},
   "outputs": [
    {
     "data": {
      "image/png": "[encoded data removed]",
      "text/plain": [
       "<Figure size 1440x360 with 2 Axes>"
      ]
     },
     "metadata": {
      "needs_background": "light"
     },
     "output_type": "display_data"
    }
   ],
   "source": [
    "fig, (ax1, ax2) = plt.subplots(nrows = 1, ncols =2, figsize = (20, 5));\n",
    "sns.distplot(dataset_yes['previous'], hist = True, ax = ax1, color = \"#07247D\", hist_kws = {'edgecolor':'black'},kde = False);\n",
    "ax1.set_title(\"Number of previous contacts distribution\", fontsize = 13);\n",
    "ax1.set_xlabel(\"Contacts Quantity\", fontsize = 12);\n",
    "ax1.set_ylabel(\"Count\", fontsize = 12);\n",
    "ax1.legend(['Yes Cases']);\n",
    "sns.distplot(dataset_no['previous'], hist = True, ax = ax2, color = \"#FF5733\", hist_kws = {'edgecolor':'black'},kde = False);\n",
    "ax2.set_title(\"Number of previous contacts distribution\", fontsize = 13);\n",
    "ax2.set_xlabel(\"Contacts Quantity\", fontsize = 12);\n",
    "ax2.set_ylabel(\"Count\", fontsize = 12);\n",
    "ax2.legend(['No Cases']);"
   ]
  },
  {
   "cell_type": "markdown",
   "metadata": {},
   "source": [
    "Analisando o histograma acima podemos concluir que clientes que tiveram mais de um contato previo pode aderir mais a esse novo serviço"
   ]
  },
  {
   "cell_type": "markdown",
   "metadata": {},
   "source": [
    "# Resultado de Campanhas de Marketing Anteriores"
   ]
  },
  {
   "cell_type": "code",
   "execution_count": 36,
   "metadata": {},
   "outputs": [
    {
     "name": "stdout",
     "output_type": "stream",
     "text": [
      "poutcome\n",
      "failure         4252\n",
      "nonexistent    35563\n",
      "success         1373\n",
      "Name: poutcome, dtype: int64\n"
     ]
    },
    {
     "data": {
      "image/png": "[encoded data removed]",
      "text/plain": [
       "<Figure size 1440x360 with 2 Axes>"
      ]
     },
     "metadata": {
      "needs_background": "light"
     },
     "output_type": "display_data"
    }
   ],
   "source": [
    "fig, (ax1, ax2) = plt.subplots(nrows = 1, ncols =2, figsize = (20, 5));\n",
    "\n",
    "\n",
    "sns.countplot(x = \"poutcome\",ax=ax1, data = dataset,color =\"#5BFF33\");\n",
    "#sns.countplot(x = \"job\", data = dataset_yes,color =\"#07247D\");\n",
    "sns.countplot(x = \"poutcome\",ax=ax1, data = dataset_yes,color =\"#07247D\");\n",
    "ax1.set_xlabel('Previous campaign', fontsize = 12);\n",
    "ax1.set_ylabel('Count', fontsize = 12);\n",
    "ax1.legend(['All Cases','Yes Cases'])\n",
    "ax1.set_title(\"Outcome of the previous marketing campaign\", fontsize = 13);\n",
    "\n",
    "\n",
    "sns.countplot(x = \"poutcome\",ax=ax2, data = dataset,color =\"#5BFF33\");\n",
    "#sns.countplot(x = \"job\", data = dataset_yes,color =\"#07247D\");\n",
    "sns.countplot(x = \"poutcome\",ax=ax2, data = dataset_no,color =\"#FF5733\");\n",
    "ax2.set_xlabel('Previous campaign', fontsize = 12);\n",
    "ax2.set_ylabel('Count', fontsize = 12);\n",
    "ax2.legend(['All Cases','No Cases'])\n",
    "ax2.set_title(\"Outcome of the previous marketing campaign\", fontsize = 13);\n",
    "\n",
    "\n",
    "all_cases_previous=dataset.groupby(\"poutcome\")[\"poutcome\"].count()\n",
    "print(all_cases_previous)"
   ]
  },
  {
   "cell_type": "code",
   "execution_count": 37,
   "metadata": {},
   "outputs": [
    {
     "name": "stdout",
     "output_type": "stream",
     "text": [
      "Yes cases_previous\n",
      "poutcome\n",
      "failure         605\n",
      "nonexistent    3141\n",
      "success         894\n",
      "Name: poutcome, dtype: int64\n",
      "No cases_previous\n",
      "poutcome\n",
      "failure         3647\n",
      "nonexistent    32422\n",
      "success          479\n",
      "Name: poutcome, dtype: int64\n"
     ]
    }
   ],
   "source": [
    "yes_cases_previous=dataset_yes.groupby(\"poutcome\")[\"poutcome\"].count()\n",
    "print('Yes cases_previous')\n",
    "print(yes_cases_previous)\n",
    "no_cases_previous=dataset_no.groupby(\"poutcome\")[\"poutcome\"].count()\n",
    "print('No cases_previous')\n",
    "print(no_cases_previous)\n",
    "labels_previous=['nonexistent','failure','sucess']"
   ]
  },
  {
   "cell_type": "code",
   "execution_count": 38,
   "metadata": {},
   "outputs": [
    {
     "data": {
      "text/html": [
       "<div>\n",
       "<style scoped>\n",
       "    .dataframe tbody tr th:only-of-type {\n",
       "        vertical-align: middle;\n",
       "    }\n",
       "\n",
       "    .dataframe tbody tr th {\n",
       "        vertical-align: top;\n",
       "    }\n",
       "\n",
       "    .dataframe thead th {\n",
       "        text-align: right;\n",
       "    }\n",
       "</style>\n",
       "<table border=\"1\" class=\"dataframe\">\n",
       "  <thead>\n",
       "    <tr style=\"text-align: right;\">\n",
       "      <th></th>\n",
       "      <th>Previous</th>\n",
       "      <th>No cases</th>\n",
       "      <th>Yes cases</th>\n",
       "    </tr>\n",
       "  </thead>\n",
       "  <tbody>\n",
       "    <tr>\n",
       "      <th>0</th>\n",
       "      <td>nonexistent</td>\n",
       "      <td>0.857714</td>\n",
       "      <td>0.142286</td>\n",
       "    </tr>\n",
       "    <tr>\n",
       "      <th>1</th>\n",
       "      <td>failure</td>\n",
       "      <td>0.911678</td>\n",
       "      <td>0.088322</td>\n",
       "    </tr>\n",
       "    <tr>\n",
       "      <th>2</th>\n",
       "      <td>sucess</td>\n",
       "      <td>0.348871</td>\n",
       "      <td>0.651129</td>\n",
       "    </tr>\n",
       "  </tbody>\n",
       "</table>\n",
       "</div>"
      ],
      "text/plain": [
       "      Previous  No cases  Yes cases\n",
       "0  nonexistent  0.857714   0.142286\n",
       "1      failure  0.911678   0.088322\n",
       "2       sucess  0.348871   0.651129"
      ]
     },
     "execution_count": 38,
     "metadata": {},
     "output_type": "execute_result"
    }
   ],
   "source": [
    "Result_yes=[yes_cases_previous[0]/all_cases_previous[0],yes_cases_previous[1]/all_cases_previous[1],yes_cases_previous[2]/all_cases_previous[2]]\n",
    "Result_no=[no_cases_previous[0]/all_cases_previous[0],no_cases_previous[1]/all_cases_previous[1],no_cases_previous[2]/all_cases_previous[2]]\n",
    "frame = { 'Previous': labels_previous, 'No cases': Result_no,'Yes cases': Result_yes  }\n",
    "Previous_analisys = pd.DataFrame(frame)\n",
    "Previous_analisys.head()"
   ]
  },
  {
   "cell_type": "code",
   "execution_count": 39,
   "metadata": {},
   "outputs": [
    {
     "data": {
      "image/png": "[encoded data removed]",
      "text/plain": [
       "<Figure size 432x288 with 1 Axes>"
      ]
     },
     "metadata": {
      "needs_background": "light"
     },
     "output_type": "display_data"
    }
   ],
   "source": [
    "fig, ax = plt.subplots()\n",
    "ax.plot(Previous_analisys['Previous'], Previous_analisys['No cases']*100,color = \"#FF5733\")\n",
    "ax.plot(Previous_analisys['Previous'], Previous_analisys['Yes cases']*100,color = \"#07247D\")\n",
    "\n",
    "ax.set(xlabel='Previous Campaign', ylabel='Percentual into the total',\n",
    "       title='Last Contact ')\n",
    "ax.grid()\n",
    "ax.legend(['No Cases','Yes Cases']);\n",
    "plt.show()"
   ]
  },
  {
   "cell_type": "markdown",
   "metadata": {},
   "source": [
    "#### Se o cliente já tiver casos de contatos bem sucedidos, ele tem grandes chances de aceitar esse novo contato"
   ]
  },
  {
   "cell_type": "markdown",
   "metadata": {},
   "source": [
    "# Analisado a Taxa de variação de emprego do cliente"
   ]
  },
  {
   "cell_type": "code",
   "execution_count": 40,
   "metadata": {},
   "outputs": [
    {
     "data": {
      "image/png": "[encoded data removed]",
      "text/plain": [
       "<Figure size 1440x360 with 2 Axes>"
      ]
     },
     "metadata": {
      "needs_background": "light"
     },
     "output_type": "display_data"
    }
   ],
   "source": [
    "fig, (ax1, ax2) = plt.subplots(nrows = 1, ncols =2, figsize = (20, 5));\n",
    "\n",
    "sns.countplot(x = 'emp.var.rate',ax=ax1, data = dataset,color =\"#5BFF33\");\n",
    "sns.countplot(x = 'emp.var.rate',ax=ax1, data = dataset_yes,color =\"#07247D\");\n",
    "#sns.distplot(dataset['emp.var.rate'], hist = True, ax = ax1, color = \"#5BFF33\", hist_kws = {'edgecolor':'black'},kde = False);\n",
    "#sns.distplot(dataset_yes['emp.var.rate'], hist = True, ax = ax1, color = \"#07247D\", hist_kws = {'edgecolor':'black'},kde = False);\n",
    "ax1.set_title(\"Employment variation rate\", fontsize = 13);\n",
    "ax1.set_xlabel(\"Campaign Quantity\", fontsize = 12);\n",
    "ax1.set_ylabel(\"Count\", fontsize = 12);\n",
    "ax1.legend(['All Cases','Yes Cases']);\n",
    "\n",
    "sns.countplot(x = 'emp.var.rate',ax=ax2, data = dataset,color =\"#5BFF33\");\n",
    "sns.countplot(x = 'emp.var.rate',ax=ax2, data = dataset_no,color =\"#FF5733\");\n",
    "#sns.distplot(dataset_no['emp.var.rate'], hist = True, ax = ax2, color = \"#FF5733\", hist_kws = {'edgecolor':'black'},kde = False);\n",
    "ax2.set_title(\"Employment variation rate\", fontsize = 13);\n",
    "ax2.set_xlabel(\"Campaign Quantity\", fontsize = 12);\n",
    "ax2.set_ylabel(\"Count\", fontsize = 12);\n",
    "ax2.legend(['All Cases','No Cases']);"
   ]
  },
  {
   "cell_type": "code",
   "execution_count": 41,
   "metadata": {},
   "outputs": [
    {
     "name": "stdout",
     "output_type": "stream",
     "text": [
      "All cases\n",
      "emp.var.rate\n",
      "-3.4     1071\n",
      "-3.0      172\n",
      "-2.9     1663\n",
      "-1.8     9184\n",
      "-1.7      773\n",
      "-1.1      635\n",
      "-0.2       10\n",
      "-0.1     3683\n",
      " 1.1     7763\n",
      " 1.4    16234\n",
      "Name: emp.var.rate, dtype: int64\n",
      "Yes cases\n",
      "emp.var.rate\n",
      "-3.4     454\n",
      "-3.0      88\n",
      "-2.9     594\n",
      "-1.8    1461\n",
      "-1.7     403\n",
      "-1.1     301\n",
      "-0.2       1\n",
      "-0.1     232\n",
      " 1.1     240\n",
      " 1.4     866\n",
      "Name: emp.var.rate, dtype: int64\n",
      "No cases\n",
      "emp.var.rate\n",
      "-3.4      617\n",
      "-3.0       84\n",
      "-2.9     1069\n",
      "-1.8     7723\n",
      "-1.7      370\n",
      "-1.1      334\n",
      "-0.2        9\n",
      "-0.1     3451\n",
      " 1.1     7523\n",
      " 1.4    15368\n",
      "Name: emp.var.rate, dtype: int64\n"
     ]
    }
   ],
   "source": [
    "empvar_total=dataset.groupby('emp.var.rate')['emp.var.rate'].count()\n",
    "empvar_yes=dataset_yes.groupby('emp.var.rate')['emp.var.rate'].count()\n",
    "empvar_no=dataset_no.groupby('emp.var.rate')['emp.var.rate'].count()\n",
    "print('All cases')\n",
    "print(empvar_total)\n",
    "print('Yes cases')\n",
    "print(empvar_yes)\n",
    "print('No cases')\n",
    "print(empvar_no)\n"
   ]
  },
  {
   "cell_type": "code",
   "execution_count": 42,
   "metadata": {},
   "outputs": [],
   "source": [
    "Result_empvar_yes=[454/1074,88/172,594/1663,1461/9184,403/773,301/635,1/10,232/3683,240/7763,866/16234]\n",
    "Result_empvar_no=[617/1074,84/172,1069/1663,7723/9184,370/773,334/635,9/10,3451/3683,7523/7763,15368/16234]\n"
   ]
  },
  {
   "cell_type": "code",
   "execution_count": 43,
   "metadata": {},
   "outputs": [
    {
     "data": {
      "text/html": [
       "<div>\n",
       "<style scoped>\n",
       "    .dataframe tbody tr th:only-of-type {\n",
       "        vertical-align: middle;\n",
       "    }\n",
       "\n",
       "    .dataframe tbody tr th {\n",
       "        vertical-align: top;\n",
       "    }\n",
       "\n",
       "    .dataframe thead th {\n",
       "        text-align: right;\n",
       "    }\n",
       "</style>\n",
       "<table border=\"1\" class=\"dataframe\">\n",
       "  <thead>\n",
       "    <tr style=\"text-align: right;\">\n",
       "      <th></th>\n",
       "      <th>Emp_Var_Rate</th>\n",
       "      <th>No cases</th>\n",
       "      <th>Yes cases</th>\n",
       "    </tr>\n",
       "  </thead>\n",
       "  <tbody>\n",
       "    <tr>\n",
       "      <th>0</th>\n",
       "      <td>-3.4</td>\n",
       "      <td>0.574488</td>\n",
       "      <td>0.422719</td>\n",
       "    </tr>\n",
       "    <tr>\n",
       "      <th>1</th>\n",
       "      <td>-3.0</td>\n",
       "      <td>0.488372</td>\n",
       "      <td>0.511628</td>\n",
       "    </tr>\n",
       "    <tr>\n",
       "      <th>2</th>\n",
       "      <td>-2.9</td>\n",
       "      <td>0.642814</td>\n",
       "      <td>0.357186</td>\n",
       "    </tr>\n",
       "    <tr>\n",
       "      <th>3</th>\n",
       "      <td>-1.8</td>\n",
       "      <td>0.840919</td>\n",
       "      <td>0.159081</td>\n",
       "    </tr>\n",
       "    <tr>\n",
       "      <th>4</th>\n",
       "      <td>-1.7</td>\n",
       "      <td>0.478655</td>\n",
       "      <td>0.521345</td>\n",
       "    </tr>\n",
       "    <tr>\n",
       "      <th>5</th>\n",
       "      <td>-1.1</td>\n",
       "      <td>0.525984</td>\n",
       "      <td>0.474016</td>\n",
       "    </tr>\n",
       "    <tr>\n",
       "      <th>6</th>\n",
       "      <td>-0.2</td>\n",
       "      <td>0.900000</td>\n",
       "      <td>0.100000</td>\n",
       "    </tr>\n",
       "    <tr>\n",
       "      <th>7</th>\n",
       "      <td>-0.1</td>\n",
       "      <td>0.937008</td>\n",
       "      <td>0.062992</td>\n",
       "    </tr>\n",
       "    <tr>\n",
       "      <th>8</th>\n",
       "      <td>1.1</td>\n",
       "      <td>0.969084</td>\n",
       "      <td>0.030916</td>\n",
       "    </tr>\n",
       "    <tr>\n",
       "      <th>9</th>\n",
       "      <td>1.4</td>\n",
       "      <td>0.946655</td>\n",
       "      <td>0.053345</td>\n",
       "    </tr>\n",
       "  </tbody>\n",
       "</table>\n",
       "</div>"
      ],
      "text/plain": [
       "   Emp_Var_Rate  No cases  Yes cases\n",
       "0          -3.4  0.574488   0.422719\n",
       "1          -3.0  0.488372   0.511628\n",
       "2          -2.9  0.642814   0.357186\n",
       "3          -1.8  0.840919   0.159081\n",
       "4          -1.7  0.478655   0.521345\n",
       "5          -1.1  0.525984   0.474016\n",
       "6          -0.2  0.900000   0.100000\n",
       "7          -0.1  0.937008   0.062992\n",
       "8           1.1  0.969084   0.030916\n",
       "9           1.4  0.946655   0.053345"
      ]
     },
     "execution_count": 43,
     "metadata": {},
     "output_type": "execute_result"
    }
   ],
   "source": [
    "frame = { 'Emp_Var_Rate': empvar_total.index, 'No cases': Result_empvar_no,'Yes cases': Result_empvar_yes  }\n",
    "Previous_analisys = pd.DataFrame(frame)\n",
    "Previous_analisys.head(10)"
   ]
  },
  {
   "cell_type": "code",
   "execution_count": 44,
   "metadata": {},
   "outputs": [
    {
     "data": {
      "image/png": "[encoded data removed]",
      "text/plain": [
       "<Figure size 432x288 with 1 Axes>"
      ]
     },
     "metadata": {
      "needs_background": "light"
     },
     "output_type": "display_data"
    }
   ],
   "source": [
    "fig, ax = plt.subplots()\n",
    "ax.plot(Previous_analisys['Emp_Var_Rate'], Previous_analisys['No cases']*100,color = \"#FF5733\")\n",
    "ax.plot(Previous_analisys['Emp_Var_Rate'], Previous_analisys['Yes cases']*100,color = \"#07247D\")\n",
    "\n",
    "ax.set(xlabel='Emp_Var_Rate', ylabel='Percentual into the total',\n",
    "       title='Employment variation rate ')\n",
    "ax.grid()\n",
    "ax.legend(['No Cases','Yes Cases']);\n",
    "plt.show()"
   ]
  },
  {
   "cell_type": "markdown",
   "metadata": {},
   "source": [
    "#### Analisando  as taxas de emprego dos clientes, podemos ver que quanto temos uma valor de -1.7 temos uma inversão na quantidade de não e sim"
   ]
  },
  {
   "cell_type": "markdown",
   "metadata": {},
   "source": [
    "# Analisando o \"Consumer price index\""
   ]
  },
  {
   "cell_type": "code",
   "execution_count": 45,
   "metadata": {},
   "outputs": [
    {
     "data": {
      "image/png": "[encoded data removed]",
      "text/plain": [
       "<Figure size 1800x1080 with 2 Axes>"
      ]
     },
     "metadata": {
      "needs_background": "light"
     },
     "output_type": "display_data"
    }
   ],
   "source": [
    "\n",
    "fig, (ax1, ax2) = plt.subplots(nrows = 2, ncols =1, figsize = (25, 15));\n",
    "sns.distplot(dataset['cons.price.idx'], hist = True, ax = ax1, color = \"#5BFF33\", hist_kws = {'edgecolor':'black'},kde = False);\n",
    "sns.distplot(dataset_yes['cons.price.idx'], hist = True, ax = ax1, color = \"#07247D\", hist_kws = {'edgecolor':'black'},kde = False);\n",
    "#sns.countplot(x = 'cons.price.idx',ax=ax1, data = dataset,color =\"#5BFF33\");\n",
    "#sns.countplot(x = 'cons.price.idx',ax=ax1, data = dataset_yes,color =\"#07247D\");\n",
    "ax1.set_title(\"Consumer price index \", fontsize = 13);\n",
    "ax1.set_xlabel(\"Consumer price index \", fontsize = 12);\n",
    "ax1.set_ylabel(\"Count\", fontsize = 12);\n",
    "\n",
    "sns.distplot(dataset['cons.price.idx'], hist = True, ax = ax2, color = \"#5BFF33\", hist_kws = {'edgecolor':'black'},kde = False);\n",
    "sns.distplot(dataset_no['cons.price.idx'], hist = True, ax = ax2, color = \"#FF5733\", hist_kws = {'edgecolor':'black'},kde = False);\n",
    "ax2.set_title(\"Consumer price index\", fontsize = 13);\n",
    "ax2.set_xlabel(\"Consumer price index\", fontsize = 12);\n",
    "ax2.set_ylabel(\"Count\", fontsize = 12);"
   ]
  },
  {
   "cell_type": "code",
   "execution_count": 46,
   "metadata": {},
   "outputs": [
    {
     "data": {
      "image/png": "[encoded data removed]",
      "text/plain": [
       "<Figure size 1800x1080 with 2 Axes>"
      ]
     },
     "metadata": {
      "needs_background": "light"
     },
     "output_type": "display_data"
    }
   ],
   "source": [
    "\n",
    "fig, (ax1, ax2) = plt.subplots(nrows = 2, ncols =1, figsize = (25, 15));\n",
    "#sns.distplot(dataset_yes['cons.conf.idx'], hist = True, ax = ax1, color = \"#07247D\", hist_kws = {'edgecolor':'black'},kde = False);\n",
    "sns.countplot(x = 'cons.conf.idx',ax=ax1, data = dataset,color =\"#5BFF33\");\n",
    "sns.countplot(x = 'cons.conf.idx',ax=ax1, data = dataset_yes,color =\"#07247D\");\n",
    "ax1.set_title(\"Consumer confidence index\", fontsize = 13);\n",
    "ax1.set_xlabel(\"Consumer confidence index\", fontsize = 12);\n",
    "ax1.set_ylabel(\"Count\", fontsize = 12);\n",
    "\n",
    "sns.countplot(x = 'cons.conf.idx',ax=ax2, data = dataset,color =\"#5BFF33\");\n",
    "sns.countplot(x = 'cons.conf.idx',ax=ax2, data = dataset_no,color =\"#FF5733\");\n",
    "#sns.distplot(dataset_no['cons.conf.idx'], hist = True, ax = ax2, color = \"#FF5733\", hist_kws = {'edgecolor':'black'},kde = False);\n",
    "ax2.set_title(\"Consumer confidence index\", fontsize = 13);\n",
    "ax2.set_xlabel(\"Consumer confidence index\", fontsize = 12);\n",
    "ax2.set_ylabel(\"Count\", fontsize = 12);"
   ]
  },
  {
   "cell_type": "markdown",
   "metadata": {},
   "source": [
    "# Analisando euribor 3 month rate"
   ]
  },
  {
   "cell_type": "code",
   "execution_count": 47,
   "metadata": {},
   "outputs": [
    {
     "data": {
      "text/html": [
       "<div>\n",
       "<style scoped>\n",
       "    .dataframe tbody tr th:only-of-type {\n",
       "        vertical-align: middle;\n",
       "    }\n",
       "\n",
       "    .dataframe tbody tr th {\n",
       "        vertical-align: top;\n",
       "    }\n",
       "\n",
       "    .dataframe thead th {\n",
       "        text-align: right;\n",
       "    }\n",
       "</style>\n",
       "<table border=\"1\" class=\"dataframe\">\n",
       "  <thead>\n",
       "    <tr style=\"text-align: right;\">\n",
       "      <th></th>\n",
       "      <th>euribor3m</th>\n",
       "      <th>No cases</th>\n",
       "      <th>Yes cases</th>\n",
       "    </tr>\n",
       "  </thead>\n",
       "  <tbody>\n",
       "    <tr>\n",
       "      <th>count</th>\n",
       "      <td>41188.000000</td>\n",
       "      <td>36548.000000</td>\n",
       "      <td>4640.000000</td>\n",
       "    </tr>\n",
       "    <tr>\n",
       "      <th>mean</th>\n",
       "      <td>3.621291</td>\n",
       "      <td>3.811491</td>\n",
       "      <td>2.123135</td>\n",
       "    </tr>\n",
       "    <tr>\n",
       "      <th>std</th>\n",
       "      <td>1.734447</td>\n",
       "      <td>1.638187</td>\n",
       "      <td>1.742598</td>\n",
       "    </tr>\n",
       "    <tr>\n",
       "      <th>min</th>\n",
       "      <td>0.634000</td>\n",
       "      <td>0.634000</td>\n",
       "      <td>0.634000</td>\n",
       "    </tr>\n",
       "    <tr>\n",
       "      <th>25%</th>\n",
       "      <td>1.344000</td>\n",
       "      <td>1.405000</td>\n",
       "      <td>0.849000</td>\n",
       "    </tr>\n",
       "    <tr>\n",
       "      <th>50%</th>\n",
       "      <td>4.857000</td>\n",
       "      <td>4.857000</td>\n",
       "      <td>1.266000</td>\n",
       "    </tr>\n",
       "    <tr>\n",
       "      <th>75%</th>\n",
       "      <td>4.961000</td>\n",
       "      <td>4.962000</td>\n",
       "      <td>4.406000</td>\n",
       "    </tr>\n",
       "    <tr>\n",
       "      <th>max</th>\n",
       "      <td>5.045000</td>\n",
       "      <td>5.045000</td>\n",
       "      <td>5.045000</td>\n",
       "    </tr>\n",
       "  </tbody>\n",
       "</table>\n",
       "</div>"
      ],
      "text/plain": [
       "          euribor3m      No cases    Yes cases\n",
       "count  41188.000000  36548.000000  4640.000000\n",
       "mean       3.621291      3.811491     2.123135\n",
       "std        1.734447      1.638187     1.742598\n",
       "min        0.634000      0.634000     0.634000\n",
       "25%        1.344000      1.405000     0.849000\n",
       "50%        4.857000      4.857000     1.266000\n",
       "75%        4.961000      4.962000     4.406000\n",
       "max        5.045000      5.045000     5.045000"
      ]
     },
     "execution_count": 47,
     "metadata": {},
     "output_type": "execute_result"
    }
   ],
   "source": [
    "frame = { 'euribor3m': dataset['euribor3m'], 'No cases': dataset_no['euribor3m'],'Yes cases': dataset_yes['euribor3m']  }\n",
    "Previous_analisys = pd.DataFrame(frame)\n",
    "Previous_analisys.describe()"
   ]
  },
  {
   "cell_type": "code",
   "execution_count": 48,
   "metadata": {},
   "outputs": [
    {
     "data": {
      "image/png": "[encoded data removed]",
      "text/plain": [
       "<Figure size 1440x360 with 2 Axes>"
      ]
     },
     "metadata": {
      "needs_background": "light"
     },
     "output_type": "display_data"
    }
   ],
   "source": [
    "fig, (ax1, ax2) = plt.subplots(nrows = 1, ncols =2, figsize = (20, 5));\n",
    "ax1.plot(Previous_analisys['euribor3m'], Previous_analisys['Yes cases'],color = \"#FF5733\")\n",
    "#ax.plot(Previous_analisys['Emp_Var_Rate'], Previous_analisys['Yes cases'],color = \"#07247D\")\n",
    "ax1.set(xlabel='euribor3m_YES', ylabel='euribor3m_total',\n",
    "       title='euribor3m ')\n",
    "ax1.grid()\n",
    "ax1.legend(['Yes cases']);\n",
    "\n",
    "\n",
    "ax2.plot(Previous_analisys['euribor3m'], Previous_analisys['No cases'],color = \"#07247D\")\n",
    "ax2.set(xlabel='euribor3m_No', ylabel='euribor3m_total',\n",
    "       title='euribor3m ')\n",
    "ax2.grid()\n",
    "ax2.legend(['No Cases']);\n",
    "plt.show()"
   ]
  },
  {
   "cell_type": "code",
   "execution_count": 49,
   "metadata": {},
   "outputs": [
    {
     "data": {
      "image/png": "[encoded data removed]",
      "text/plain": [
       "<Figure size 1440x360 with 2 Axes>"
      ]
     },
     "metadata": {
      "needs_background": "light"
     },
     "output_type": "display_data"
    }
   ],
   "source": [
    "fig, (ax1, ax2) = plt.subplots(nrows = 1, ncols =2, figsize = (20, 5));\n",
    "#sns.distplot(dataset['euribor3m'], hist = True, ax = ax1, color = \"#5BFF33\", hist_kws = {'edgecolor':'black'},kde = False);\n",
    "sns.distplot(dataset_yes['euribor3m'], hist = True, ax = ax1, color = \"#07247D\", hist_kws = {'edgecolor':'black'},kde = False);\n",
    "ax1.set_title(\"Euribor 3 month rate\", fontsize = 13);\n",
    "ax1.set_xlabel(\"Campaign Quantity\", fontsize = 12);\n",
    "ax1.set_ylabel(\"Count\", fontsize = 12);\n",
    "ax1.legend(['Yes cases']);\n",
    "#sns.countplot(x = 'euribor3m',ax=ax2, data = dataset,color =\"#5BFF33\");\n",
    "#sns.countplot(x = 'euribor3m',ax=ax2, data = dataset_no,color =\"#FF5733\");\n",
    "#sns.distplot(dataset['euribor3m'], hist = True, ax = ax2, color = \"#5BFF33\", hist_kws = {'edgecolor':'black'},kde = False);\n",
    "sns.distplot(dataset_no['euribor3m'], hist = True, ax = ax2, color = \"#FF5733\", hist_kws = {'edgecolor':'black'},kde = False);\n",
    "ax2.set_title(\"Campaign distribution (No cases)\", fontsize = 13);\n",
    "ax2.set_xlabel(\"Campaign Quantity\", fontsize = 12);\n",
    "ax2.set_ylabel(\"Count\", fontsize = 12);\n",
    "ax2.legend(['No Cases']);"
   ]
  },
  {
   "cell_type": "markdown",
   "metadata": {},
   "source": [
    "# Number of employees"
   ]
  },
  {
   "cell_type": "code",
   "execution_count": 50,
   "metadata": {},
   "outputs": [
    {
     "data": {
      "image/png": "[encoded data removed]",
      "text/plain": [
       "<Figure size 1800x1080 with 2 Axes>"
      ]
     },
     "metadata": {
      "needs_background": "light"
     },
     "output_type": "display_data"
    }
   ],
   "source": [
    "fig, (ax1, ax2) = plt.subplots(nrows = 2, ncols =1, figsize = (25, 15));\n",
    "#sns.distplot(dataset_yes['nr.employed'], hist = True, ax = ax1, color = \"#07247D\", hist_kws = {'edgecolor':'black'},kde = False);\n",
    "sns.countplot(x = 'nr.employed',ax=ax1, data = dataset,color =\"#5BFF33\");\n",
    "sns.countplot(x = 'nr.employed',ax=ax1, data = dataset_yes,color =\"#07247D\");\n",
    "ax1.set_title(\"Number of employees\", fontsize = 13);\n",
    "ax1.set_xlabel(\"Number of employees\", fontsize = 12);\n",
    "ax1.set_ylabel(\"Count\", fontsize = 12);\n",
    "\n",
    "#sns.distplot(dataset_no['nr.employed'], hist = True, ax = ax2, color = \"#FF5733\", hist_kws = {'edgecolor':'black'},kde = False);\n",
    "sns.countplot(x = 'nr.employed',ax=ax2, data = dataset,color =\"#5BFF33\");\n",
    "sns.countplot(x = 'nr.employed',ax=ax2, data = dataset_no,color =\"#FF5733\");\n",
    "ax2.set_title(\"Number of employees\", fontsize = 13);\n",
    "ax2.set_xlabel(\"Number of employees\", fontsize = 12);\n",
    "ax2.set_ylabel(\"Count\", fontsize = 12);"
   ]
  },
  {
   "cell_type": "markdown",
   "metadata": {},
   "source": [
    "# Agora vamos tratar nossas variaveis que são categóricas em nosso DataSet"
   ]
  },
  {
   "cell_type": "code",
   "execution_count": 51,
   "metadata": {},
   "outputs": [
    {
     "name": "stdout",
     "output_type": "stream",
     "text": [
      "Jobs: \n",
      " ['housemaid' 'services' 'admin.' 'blue-collar' 'technician' 'retired'\n",
      " 'management' 'unemployed' 'self-employed' 'unknown' 'entrepreneur'\n",
      " 'student'] \n",
      "\n",
      "Marital Status: \n",
      " ['married' 'single' 'divorced' 'unknown'] \n",
      "\n",
      "Education: \n",
      " ['basic.4y' 'high.school' 'basic.6y' 'basic.9y' 'professional.course'\n",
      " 'unknown' 'university.degree' 'illiterate'] \n",
      "\n",
      "Default on Credit: \n",
      " ['no' 'unknown' 'yes'] \n",
      "\n",
      "Housing loan: \n",
      " ['no' 'yes' 'unknown'] \n",
      "\n",
      "Loan default: \n",
      " ['no' 'yes' 'unknown'] \n",
      "\n",
      "Contact type: \n",
      " ['telephone' 'cellular'] \n",
      "\n",
      "Months: \n",
      " ['may' 'jun' 'jul' 'aug' 'oct' 'nov' 'dec' 'mar' 'apr' 'sep'] \n",
      "\n",
      "day_of_week: \n",
      " ['mon' 'tue' 'wed' 'thu' 'fri'] \n",
      "\n",
      "Poutcome: \n",
      " ['nonexistent' 'failure' 'success'] \n",
      "\n"
     ]
    }
   ],
   "source": [
    "print(\"Jobs: \\n\", dataset[\"job\"].unique(),'\\n')\n",
    "print(\"Marital Status: \\n\", dataset['marital'].unique(),'\\n')\n",
    "print(\"Education: \\n\", dataset['education'].unique(),'\\n')\n",
    "print(\"Default on Credit: \\n\", dataset['default'].unique(),'\\n')\n",
    "print(\"Housing loan: \\n\", dataset['housing'].unique(),'\\n')\n",
    "print(\"Loan default: \\n\", dataset['loan'].unique(),'\\n')\n",
    "print(\"Contact type: \\n\", dataset['contact'].unique(),'\\n')\n",
    "print(\"Months: \\n\", dataset['month'].unique(),'\\n')\n",
    "print(\"day_of_week: \\n\", dataset['day_of_week'].unique(),'\\n')\n",
    "print(\"Poutcome: \\n\",dataset[\"poutcome\"].unique(),'\\n')"
   ]
  },
  {
   "cell_type": "markdown",
   "metadata": {},
   "source": [
    "# transformação de categórico para numérico\n",
    "\n",
    "Para passar para modelos de ML, precisamos transformar as variaveis categóricas para numéricas, para isso podemos utilizar duas abordagens: \"Label Encoder\" or \"One Hot Encoder\"\n",
    "\n",
    "Para ter uma referencia sobre suas respectivas funções utilizei o seguinte artigo: https://medium.com/@contactsunny/label-encoder-vs-one-hot-encoder-in-machine-learning-3fc273365621\n",
    "\n",
    "\n"
   ]
  },
  {
   "cell_type": "code",
   "execution_count": 52,
   "metadata": {},
   "outputs": [],
   "source": [
    "from sklearn.preprocessing import OneHotEncoder,  LabelEncoder\n",
    "onehotencoder = OneHotEncoder()\n",
    "labelencoder = LabelEncoder()"
   ]
  },
  {
   "cell_type": "code",
   "execution_count": 53,
   "metadata": {},
   "outputs": [],
   "source": [
    "#dataset[\"job\"] = onehotencoder.fit_transform(dataset[\"job\"])\n",
    "#dataset[\"marital\"] = onehotencoder.fit_transform(dataset[\"marital\"])\n",
    "#dataset[\"education\"] = onehotencoder.fit_transform(dataset[\"education\"])\n",
    "#dataset[\"default\"] = onehotencoder.fit_transform(dataset[\"default\"])\n",
    "#dataset[\"housing\"] = onehotencoder.fit_transform(dataset[\"housing\"])\n",
    "#dataset[\"loan\"] = onehotencoder.fit_transform(dataset[\"loan\"])\n",
    "#dataset[\"contact\"] = onehotencoder.fit_transform(dataset[\"contact\"])\n",
    "#dataset[\"month\"] = onehotencoder.fit_transform(dataset[\"month\"])\n",
    "#dataset[\"day_of_week\"] = onehotencoder.fit_transform(dataset[\"day_of_week\"])\n",
    "#dataset[\"poutcome\"] = onehotencoder.fit_transform(dataset[\"poutcome\"])\n",
    "\n",
    "dataset[\"job\"] = labelencoder.fit_transform(dataset[\"job\"])\n",
    "dataset[\"marital\"] = labelencoder.fit_transform(dataset[\"marital\"])\n",
    "dataset[\"education\"] = labelencoder.fit_transform(dataset[\"education\"])\n",
    "dataset[\"default\"] = labelencoder.fit_transform(dataset[\"default\"])\n",
    "dataset[\"housing\"] = labelencoder.fit_transform(dataset[\"housing\"])\n",
    "dataset[\"loan\"] = labelencoder.fit_transform(dataset[\"loan\"])\n",
    "dataset[\"contact\"] =labelencoder.fit_transform(dataset[\"contact\"])\n",
    "dataset[\"month\"] = labelencoder.fit_transform(dataset[\"month\"])\n",
    "dataset[\"day_of_week\"] = labelencoder.fit_transform(dataset[\"day_of_week\"])\n",
    "dataset[\"poutcome\"] = labelencoder.fit_transform(dataset[\"poutcome\"])"
   ]
  },
  {
   "cell_type": "code",
   "execution_count": 54,
   "metadata": {},
   "outputs": [
    {
     "data": {
      "text/html": [
       "<div>\n",
       "<style scoped>\n",
       "    .dataframe tbody tr th:only-of-type {\n",
       "        vertical-align: middle;\n",
       "    }\n",
       "\n",
       "    .dataframe tbody tr th {\n",
       "        vertical-align: top;\n",
       "    }\n",
       "\n",
       "    .dataframe thead th {\n",
       "        text-align: right;\n",
       "    }\n",
       "</style>\n",
       "<table border=\"1\" class=\"dataframe\">\n",
       "  <thead>\n",
       "    <tr style=\"text-align: right;\">\n",
       "      <th></th>\n",
       "      <th>age</th>\n",
       "      <th>job</th>\n",
       "      <th>marital</th>\n",
       "      <th>education</th>\n",
       "      <th>default</th>\n",
       "      <th>housing</th>\n",
       "      <th>loan</th>\n",
       "      <th>contact</th>\n",
       "      <th>month</th>\n",
       "      <th>day_of_week</th>\n",
       "      <th>...</th>\n",
       "      <th>campaign</th>\n",
       "      <th>pdays</th>\n",
       "      <th>previous</th>\n",
       "      <th>poutcome</th>\n",
       "      <th>emp.var.rate</th>\n",
       "      <th>cons.price.idx</th>\n",
       "      <th>cons.conf.idx</th>\n",
       "      <th>euribor3m</th>\n",
       "      <th>nr.employed</th>\n",
       "      <th>y</th>\n",
       "    </tr>\n",
       "  </thead>\n",
       "  <tbody>\n",
       "    <tr>\n",
       "      <th>0</th>\n",
       "      <td>56</td>\n",
       "      <td>3</td>\n",
       "      <td>1</td>\n",
       "      <td>0</td>\n",
       "      <td>0</td>\n",
       "      <td>0</td>\n",
       "      <td>0</td>\n",
       "      <td>1</td>\n",
       "      <td>6</td>\n",
       "      <td>1</td>\n",
       "      <td>...</td>\n",
       "      <td>1</td>\n",
       "      <td>999</td>\n",
       "      <td>0</td>\n",
       "      <td>1</td>\n",
       "      <td>1.1</td>\n",
       "      <td>93.994</td>\n",
       "      <td>-36.4</td>\n",
       "      <td>4.857</td>\n",
       "      <td>5191.0</td>\n",
       "      <td>0</td>\n",
       "    </tr>\n",
       "    <tr>\n",
       "      <th>1</th>\n",
       "      <td>57</td>\n",
       "      <td>7</td>\n",
       "      <td>1</td>\n",
       "      <td>3</td>\n",
       "      <td>1</td>\n",
       "      <td>0</td>\n",
       "      <td>0</td>\n",
       "      <td>1</td>\n",
       "      <td>6</td>\n",
       "      <td>1</td>\n",
       "      <td>...</td>\n",
       "      <td>1</td>\n",
       "      <td>999</td>\n",
       "      <td>0</td>\n",
       "      <td>1</td>\n",
       "      <td>1.1</td>\n",
       "      <td>93.994</td>\n",
       "      <td>-36.4</td>\n",
       "      <td>4.857</td>\n",
       "      <td>5191.0</td>\n",
       "      <td>0</td>\n",
       "    </tr>\n",
       "    <tr>\n",
       "      <th>2</th>\n",
       "      <td>37</td>\n",
       "      <td>7</td>\n",
       "      <td>1</td>\n",
       "      <td>3</td>\n",
       "      <td>0</td>\n",
       "      <td>2</td>\n",
       "      <td>0</td>\n",
       "      <td>1</td>\n",
       "      <td>6</td>\n",
       "      <td>1</td>\n",
       "      <td>...</td>\n",
       "      <td>1</td>\n",
       "      <td>999</td>\n",
       "      <td>0</td>\n",
       "      <td>1</td>\n",
       "      <td>1.1</td>\n",
       "      <td>93.994</td>\n",
       "      <td>-36.4</td>\n",
       "      <td>4.857</td>\n",
       "      <td>5191.0</td>\n",
       "      <td>0</td>\n",
       "    </tr>\n",
       "    <tr>\n",
       "      <th>3</th>\n",
       "      <td>40</td>\n",
       "      <td>0</td>\n",
       "      <td>1</td>\n",
       "      <td>1</td>\n",
       "      <td>0</td>\n",
       "      <td>0</td>\n",
       "      <td>0</td>\n",
       "      <td>1</td>\n",
       "      <td>6</td>\n",
       "      <td>1</td>\n",
       "      <td>...</td>\n",
       "      <td>1</td>\n",
       "      <td>999</td>\n",
       "      <td>0</td>\n",
       "      <td>1</td>\n",
       "      <td>1.1</td>\n",
       "      <td>93.994</td>\n",
       "      <td>-36.4</td>\n",
       "      <td>4.857</td>\n",
       "      <td>5191.0</td>\n",
       "      <td>0</td>\n",
       "    </tr>\n",
       "    <tr>\n",
       "      <th>4</th>\n",
       "      <td>56</td>\n",
       "      <td>7</td>\n",
       "      <td>1</td>\n",
       "      <td>3</td>\n",
       "      <td>0</td>\n",
       "      <td>0</td>\n",
       "      <td>2</td>\n",
       "      <td>1</td>\n",
       "      <td>6</td>\n",
       "      <td>1</td>\n",
       "      <td>...</td>\n",
       "      <td>1</td>\n",
       "      <td>999</td>\n",
       "      <td>0</td>\n",
       "      <td>1</td>\n",
       "      <td>1.1</td>\n",
       "      <td>93.994</td>\n",
       "      <td>-36.4</td>\n",
       "      <td>4.857</td>\n",
       "      <td>5191.0</td>\n",
       "      <td>0</td>\n",
       "    </tr>\n",
       "  </tbody>\n",
       "</table>\n",
       "<p>5 rows × 21 columns</p>\n",
       "</div>"
      ],
      "text/plain": [
       "   age  job  marital  education  default  housing  loan  contact  month  \\\n",
       "0   56    3        1          0        0        0     0        1      6   \n",
       "1   57    7        1          3        1        0     0        1      6   \n",
       "2   37    7        1          3        0        2     0        1      6   \n",
       "3   40    0        1          1        0        0     0        1      6   \n",
       "4   56    7        1          3        0        0     2        1      6   \n",
       "\n",
       "   day_of_week  ...  campaign  pdays  previous  poutcome  emp.var.rate  \\\n",
       "0            1  ...         1    999         0         1           1.1   \n",
       "1            1  ...         1    999         0         1           1.1   \n",
       "2            1  ...         1    999         0         1           1.1   \n",
       "3            1  ...         1    999         0         1           1.1   \n",
       "4            1  ...         1    999         0         1           1.1   \n",
       "\n",
       "   cons.price.idx  cons.conf.idx  euribor3m  nr.employed  y  \n",
       "0          93.994          -36.4      4.857       5191.0  0  \n",
       "1          93.994          -36.4      4.857       5191.0  0  \n",
       "2          93.994          -36.4      4.857       5191.0  0  \n",
       "3          93.994          -36.4      4.857       5191.0  0  \n",
       "4          93.994          -36.4      4.857       5191.0  0  \n",
       "\n",
       "[5 rows x 21 columns]"
      ]
     },
     "execution_count": 54,
     "metadata": {},
     "output_type": "execute_result"
    }
   ],
   "source": [
    "dataset.head()"
   ]
  },
  {
   "cell_type": "code",
   "execution_count": 55,
   "metadata": {},
   "outputs": [
    {
     "data": {
      "text/html": [
       "<div>\n",
       "<style scoped>\n",
       "    .dataframe tbody tr th:only-of-type {\n",
       "        vertical-align: middle;\n",
       "    }\n",
       "\n",
       "    .dataframe tbody tr th {\n",
       "        vertical-align: top;\n",
       "    }\n",
       "\n",
       "    .dataframe thead th {\n",
       "        text-align: right;\n",
       "    }\n",
       "</style>\n",
       "<table border=\"1\" class=\"dataframe\">\n",
       "  <thead>\n",
       "    <tr style=\"text-align: right;\">\n",
       "      <th></th>\n",
       "      <th>age</th>\n",
       "      <th>job</th>\n",
       "      <th>marital</th>\n",
       "      <th>education</th>\n",
       "      <th>default</th>\n",
       "      <th>housing</th>\n",
       "      <th>loan</th>\n",
       "      <th>contact</th>\n",
       "      <th>month</th>\n",
       "      <th>day_of_week</th>\n",
       "      <th>...</th>\n",
       "      <th>campaign</th>\n",
       "      <th>pdays</th>\n",
       "      <th>previous</th>\n",
       "      <th>poutcome</th>\n",
       "      <th>emp.var.rate</th>\n",
       "      <th>cons.price.idx</th>\n",
       "      <th>cons.conf.idx</th>\n",
       "      <th>euribor3m</th>\n",
       "      <th>nr.employed</th>\n",
       "      <th>y</th>\n",
       "    </tr>\n",
       "  </thead>\n",
       "  <tbody>\n",
       "    <tr>\n",
       "      <th>age</th>\n",
       "      <td>1.000000</td>\n",
       "      <td>0.001250</td>\n",
       "      <td>-0.389753</td>\n",
       "      <td>-0.117892</td>\n",
       "      <td>0.164965</td>\n",
       "      <td>-0.001603</td>\n",
       "      <td>-0.007368</td>\n",
       "      <td>0.007021</td>\n",
       "      <td>-0.024877</td>\n",
       "      <td>-0.017572</td>\n",
       "      <td>...</td>\n",
       "      <td>0.004594</td>\n",
       "      <td>-0.034369</td>\n",
       "      <td>0.024365</td>\n",
       "      <td>0.019750</td>\n",
       "      <td>-0.000371</td>\n",
       "      <td>0.000857</td>\n",
       "      <td>0.129372</td>\n",
       "      <td>0.010767</td>\n",
       "      <td>-0.017725</td>\n",
       "      <td>0.030399</td>\n",
       "    </tr>\n",
       "    <tr>\n",
       "      <th>job</th>\n",
       "      <td>0.001250</td>\n",
       "      <td>1.000000</td>\n",
       "      <td>0.027897</td>\n",
       "      <td>0.134121</td>\n",
       "      <td>-0.028277</td>\n",
       "      <td>0.006962</td>\n",
       "      <td>-0.010209</td>\n",
       "      <td>-0.025132</td>\n",
       "      <td>-0.033213</td>\n",
       "      <td>-0.000844</td>\n",
       "      <td>...</td>\n",
       "      <td>-0.006923</td>\n",
       "      <td>-0.028468</td>\n",
       "      <td>0.020965</td>\n",
       "      <td>0.011504</td>\n",
       "      <td>-0.008271</td>\n",
       "      <td>-0.016017</td>\n",
       "      <td>0.052760</td>\n",
       "      <td>-0.007880</td>\n",
       "      <td>-0.019574</td>\n",
       "      <td>0.025122</td>\n",
       "    </tr>\n",
       "    <tr>\n",
       "      <th>marital</th>\n",
       "      <td>-0.389753</td>\n",
       "      <td>0.027897</td>\n",
       "      <td>1.000000</td>\n",
       "      <td>0.109220</td>\n",
       "      <td>-0.079450</td>\n",
       "      <td>0.010467</td>\n",
       "      <td>0.005788</td>\n",
       "      <td>-0.054501</td>\n",
       "      <td>-0.007629</td>\n",
       "      <td>0.002202</td>\n",
       "      <td>...</td>\n",
       "      <td>-0.007240</td>\n",
       "      <td>-0.037942</td>\n",
       "      <td>0.038689</td>\n",
       "      <td>0.001912</td>\n",
       "      <td>-0.084210</td>\n",
       "      <td>-0.057477</td>\n",
       "      <td>-0.033783</td>\n",
       "      <td>-0.091939</td>\n",
       "      <td>-0.086199</td>\n",
       "      <td>0.046203</td>\n",
       "    </tr>\n",
       "    <tr>\n",
       "      <th>education</th>\n",
       "      <td>-0.117892</td>\n",
       "      <td>0.134121</td>\n",
       "      <td>0.109220</td>\n",
       "      <td>1.000000</td>\n",
       "      <td>-0.186859</td>\n",
       "      <td>0.016825</td>\n",
       "      <td>0.006384</td>\n",
       "      <td>-0.105726</td>\n",
       "      <td>-0.082684</td>\n",
       "      <td>-0.017986</td>\n",
       "      <td>...</td>\n",
       "      <td>0.000371</td>\n",
       "      <td>-0.046626</td>\n",
       "      <td>0.038831</td>\n",
       "      <td>0.017009</td>\n",
       "      <td>-0.043778</td>\n",
       "      <td>-0.081607</td>\n",
       "      <td>0.078799</td>\n",
       "      <td>-0.036380</td>\n",
       "      <td>-0.041492</td>\n",
       "      <td>0.057799</td>\n",
       "    </tr>\n",
       "    <tr>\n",
       "      <th>default</th>\n",
       "      <td>0.164965</td>\n",
       "      <td>-0.028277</td>\n",
       "      <td>-0.079450</td>\n",
       "      <td>-0.186859</td>\n",
       "      <td>1.000000</td>\n",
       "      <td>-0.015815</td>\n",
       "      <td>-0.003782</td>\n",
       "      <td>0.135238</td>\n",
       "      <td>-0.015830</td>\n",
       "      <td>-0.008701</td>\n",
       "      <td>...</td>\n",
       "      <td>0.032825</td>\n",
       "      <td>0.080062</td>\n",
       "      <td>-0.102416</td>\n",
       "      <td>0.023417</td>\n",
       "      <td>0.203263</td>\n",
       "      <td>0.168073</td>\n",
       "      <td>0.026522</td>\n",
       "      <td>0.195336</td>\n",
       "      <td>0.189845</td>\n",
       "      <td>-0.099352</td>\n",
       "    </tr>\n",
       "    <tr>\n",
       "      <th>housing</th>\n",
       "      <td>-0.001603</td>\n",
       "      <td>0.006962</td>\n",
       "      <td>0.010467</td>\n",
       "      <td>0.016825</td>\n",
       "      <td>-0.015815</td>\n",
       "      <td>1.000000</td>\n",
       "      <td>0.044296</td>\n",
       "      <td>-0.082186</td>\n",
       "      <td>-0.018141</td>\n",
       "      <td>0.003339</td>\n",
       "      <td>...</td>\n",
       "      <td>-0.011010</td>\n",
       "      <td>-0.010551</td>\n",
       "      <td>0.021314</td>\n",
       "      <td>-0.011783</td>\n",
       "      <td>-0.060196</td>\n",
       "      <td>-0.080504</td>\n",
       "      <td>-0.033845</td>\n",
       "      <td>-0.059277</td>\n",
       "      <td>-0.045862</td>\n",
       "      <td>0.011552</td>\n",
       "    </tr>\n",
       "    <tr>\n",
       "      <th>loan</th>\n",
       "      <td>-0.007368</td>\n",
       "      <td>-0.010209</td>\n",
       "      <td>0.005788</td>\n",
       "      <td>0.006384</td>\n",
       "      <td>-0.003782</td>\n",
       "      <td>0.044296</td>\n",
       "      <td>1.000000</td>\n",
       "      <td>-0.008556</td>\n",
       "      <td>-0.005705</td>\n",
       "      <td>-0.009344</td>\n",
       "      <td>...</td>\n",
       "      <td>0.005166</td>\n",
       "      <td>0.000345</td>\n",
       "      <td>-0.001327</td>\n",
       "      <td>-0.001511</td>\n",
       "      <td>0.001849</td>\n",
       "      <td>-0.002430</td>\n",
       "      <td>-0.012025</td>\n",
       "      <td>0.000125</td>\n",
       "      <td>0.003903</td>\n",
       "      <td>-0.004909</td>\n",
       "    </tr>\n",
       "    <tr>\n",
       "      <th>contact</th>\n",
       "      <td>0.007021</td>\n",
       "      <td>-0.025132</td>\n",
       "      <td>-0.054501</td>\n",
       "      <td>-0.105726</td>\n",
       "      <td>0.135238</td>\n",
       "      <td>-0.082186</td>\n",
       "      <td>-0.008556</td>\n",
       "      <td>1.000000</td>\n",
       "      <td>0.276565</td>\n",
       "      <td>-0.009575</td>\n",
       "      <td>...</td>\n",
       "      <td>0.077368</td>\n",
       "      <td>0.117970</td>\n",
       "      <td>-0.212848</td>\n",
       "      <td>0.118744</td>\n",
       "      <td>0.393584</td>\n",
       "      <td>0.591474</td>\n",
       "      <td>0.251614</td>\n",
       "      <td>0.399773</td>\n",
       "      <td>0.269155</td>\n",
       "      <td>-0.144773</td>\n",
       "    </tr>\n",
       "    <tr>\n",
       "      <th>month</th>\n",
       "      <td>-0.024877</td>\n",
       "      <td>-0.033213</td>\n",
       "      <td>-0.007629</td>\n",
       "      <td>-0.082684</td>\n",
       "      <td>-0.015830</td>\n",
       "      <td>-0.018141</td>\n",
       "      <td>-0.005705</td>\n",
       "      <td>0.276565</td>\n",
       "      <td>1.000000</td>\n",
       "      <td>0.027677</td>\n",
       "      <td>...</td>\n",
       "      <td>-0.062059</td>\n",
       "      <td>-0.047891</td>\n",
       "      <td>0.103157</td>\n",
       "      <td>-0.065012</td>\n",
       "      <td>-0.178782</td>\n",
       "      <td>-0.004239</td>\n",
       "      <td>0.009652</td>\n",
       "      <td>-0.117264</td>\n",
       "      <td>-0.221425</td>\n",
       "      <td>-0.006065</td>\n",
       "    </tr>\n",
       "    <tr>\n",
       "      <th>day_of_week</th>\n",
       "      <td>-0.017572</td>\n",
       "      <td>-0.000844</td>\n",
       "      <td>0.002202</td>\n",
       "      <td>-0.017986</td>\n",
       "      <td>-0.008701</td>\n",
       "      <td>0.003339</td>\n",
       "      <td>-0.009344</td>\n",
       "      <td>-0.009575</td>\n",
       "      <td>0.027677</td>\n",
       "      <td>1.000000</td>\n",
       "      <td>...</td>\n",
       "      <td>-0.038288</td>\n",
       "      <td>-0.009531</td>\n",
       "      <td>-0.004102</td>\n",
       "      <td>0.018732</td>\n",
       "      <td>0.033245</td>\n",
       "      <td>0.005644</td>\n",
       "      <td>0.041465</td>\n",
       "      <td>0.039043</td>\n",
       "      <td>0.028380</td>\n",
       "      <td>0.015967</td>\n",
       "    </tr>\n",
       "    <tr>\n",
       "      <th>duration</th>\n",
       "      <td>-0.000866</td>\n",
       "      <td>-0.006490</td>\n",
       "      <td>0.010290</td>\n",
       "      <td>-0.015102</td>\n",
       "      <td>-0.011794</td>\n",
       "      <td>-0.007658</td>\n",
       "      <td>-0.000916</td>\n",
       "      <td>-0.026657</td>\n",
       "      <td>0.003690</td>\n",
       "      <td>0.021950</td>\n",
       "      <td>...</td>\n",
       "      <td>-0.071699</td>\n",
       "      <td>-0.047577</td>\n",
       "      <td>0.020640</td>\n",
       "      <td>0.033360</td>\n",
       "      <td>-0.027968</td>\n",
       "      <td>0.005312</td>\n",
       "      <td>-0.008173</td>\n",
       "      <td>-0.032897</td>\n",
       "      <td>-0.044703</td>\n",
       "      <td>0.405274</td>\n",
       "    </tr>\n",
       "    <tr>\n",
       "      <th>campaign</th>\n",
       "      <td>0.004594</td>\n",
       "      <td>-0.006923</td>\n",
       "      <td>-0.007240</td>\n",
       "      <td>0.000371</td>\n",
       "      <td>0.032825</td>\n",
       "      <td>-0.011010</td>\n",
       "      <td>0.005166</td>\n",
       "      <td>0.077368</td>\n",
       "      <td>-0.062059</td>\n",
       "      <td>-0.038288</td>\n",
       "      <td>...</td>\n",
       "      <td>1.000000</td>\n",
       "      <td>0.052584</td>\n",
       "      <td>-0.079141</td>\n",
       "      <td>0.032586</td>\n",
       "      <td>0.150754</td>\n",
       "      <td>0.127836</td>\n",
       "      <td>-0.013733</td>\n",
       "      <td>0.135133</td>\n",
       "      <td>0.144095</td>\n",
       "      <td>-0.066357</td>\n",
       "    </tr>\n",
       "    <tr>\n",
       "      <th>pdays</th>\n",
       "      <td>-0.034369</td>\n",
       "      <td>-0.028468</td>\n",
       "      <td>-0.037942</td>\n",
       "      <td>-0.046626</td>\n",
       "      <td>0.080062</td>\n",
       "      <td>-0.010551</td>\n",
       "      <td>0.000345</td>\n",
       "      <td>0.117970</td>\n",
       "      <td>-0.047891</td>\n",
       "      <td>-0.009531</td>\n",
       "      <td>...</td>\n",
       "      <td>0.052584</td>\n",
       "      <td>1.000000</td>\n",
       "      <td>-0.587514</td>\n",
       "      <td>-0.475619</td>\n",
       "      <td>0.271004</td>\n",
       "      <td>0.078889</td>\n",
       "      <td>-0.091342</td>\n",
       "      <td>0.296899</td>\n",
       "      <td>0.372605</td>\n",
       "      <td>-0.324914</td>\n",
       "    </tr>\n",
       "    <tr>\n",
       "      <th>previous</th>\n",
       "      <td>0.024365</td>\n",
       "      <td>0.020965</td>\n",
       "      <td>0.038689</td>\n",
       "      <td>0.038831</td>\n",
       "      <td>-0.102416</td>\n",
       "      <td>0.021314</td>\n",
       "      <td>-0.001327</td>\n",
       "      <td>-0.212848</td>\n",
       "      <td>0.103157</td>\n",
       "      <td>-0.004102</td>\n",
       "      <td>...</td>\n",
       "      <td>-0.079141</td>\n",
       "      <td>-0.587514</td>\n",
       "      <td>1.000000</td>\n",
       "      <td>-0.313110</td>\n",
       "      <td>-0.420489</td>\n",
       "      <td>-0.203130</td>\n",
       "      <td>-0.050936</td>\n",
       "      <td>-0.454494</td>\n",
       "      <td>-0.501333</td>\n",
       "      <td>0.230181</td>\n",
       "    </tr>\n",
       "    <tr>\n",
       "      <th>poutcome</th>\n",
       "      <td>0.019750</td>\n",
       "      <td>0.011504</td>\n",
       "      <td>0.001912</td>\n",
       "      <td>0.017009</td>\n",
       "      <td>0.023417</td>\n",
       "      <td>-0.011783</td>\n",
       "      <td>-0.001511</td>\n",
       "      <td>0.118744</td>\n",
       "      <td>-0.065012</td>\n",
       "      <td>0.018732</td>\n",
       "      <td>...</td>\n",
       "      <td>0.032586</td>\n",
       "      <td>-0.475619</td>\n",
       "      <td>-0.313110</td>\n",
       "      <td>1.000000</td>\n",
       "      <td>0.192972</td>\n",
       "      <td>0.211330</td>\n",
       "      <td>0.178289</td>\n",
       "      <td>0.184144</td>\n",
       "      <td>0.119689</td>\n",
       "      <td>0.129789</td>\n",
       "    </tr>\n",
       "    <tr>\n",
       "      <th>emp.var.rate</th>\n",
       "      <td>-0.000371</td>\n",
       "      <td>-0.008271</td>\n",
       "      <td>-0.084210</td>\n",
       "      <td>-0.043778</td>\n",
       "      <td>0.203263</td>\n",
       "      <td>-0.060196</td>\n",
       "      <td>0.001849</td>\n",
       "      <td>0.393584</td>\n",
       "      <td>-0.178782</td>\n",
       "      <td>0.033245</td>\n",
       "      <td>...</td>\n",
       "      <td>0.150754</td>\n",
       "      <td>0.271004</td>\n",
       "      <td>-0.420489</td>\n",
       "      <td>0.192972</td>\n",
       "      <td>1.000000</td>\n",
       "      <td>0.775334</td>\n",
       "      <td>0.196041</td>\n",
       "      <td>0.972245</td>\n",
       "      <td>0.906970</td>\n",
       "      <td>-0.298334</td>\n",
       "    </tr>\n",
       "    <tr>\n",
       "      <th>cons.price.idx</th>\n",
       "      <td>0.000857</td>\n",
       "      <td>-0.016017</td>\n",
       "      <td>-0.057477</td>\n",
       "      <td>-0.081607</td>\n",
       "      <td>0.168073</td>\n",
       "      <td>-0.080504</td>\n",
       "      <td>-0.002430</td>\n",
       "      <td>0.591474</td>\n",
       "      <td>-0.004239</td>\n",
       "      <td>0.005644</td>\n",
       "      <td>...</td>\n",
       "      <td>0.127836</td>\n",
       "      <td>0.078889</td>\n",
       "      <td>-0.203130</td>\n",
       "      <td>0.211330</td>\n",
       "      <td>0.775334</td>\n",
       "      <td>1.000000</td>\n",
       "      <td>0.058986</td>\n",
       "      <td>0.688230</td>\n",
       "      <td>0.522034</td>\n",
       "      <td>-0.136211</td>\n",
       "    </tr>\n",
       "    <tr>\n",
       "      <th>cons.conf.idx</th>\n",
       "      <td>0.129372</td>\n",
       "      <td>0.052760</td>\n",
       "      <td>-0.033783</td>\n",
       "      <td>0.078799</td>\n",
       "      <td>0.026522</td>\n",
       "      <td>-0.033845</td>\n",
       "      <td>-0.012025</td>\n",
       "      <td>0.251614</td>\n",
       "      <td>0.009652</td>\n",
       "      <td>0.041465</td>\n",
       "      <td>...</td>\n",
       "      <td>-0.013733</td>\n",
       "      <td>-0.091342</td>\n",
       "      <td>-0.050936</td>\n",
       "      <td>0.178289</td>\n",
       "      <td>0.196041</td>\n",
       "      <td>0.058986</td>\n",
       "      <td>1.000000</td>\n",
       "      <td>0.277686</td>\n",
       "      <td>0.100513</td>\n",
       "      <td>0.054878</td>\n",
       "    </tr>\n",
       "    <tr>\n",
       "      <th>euribor3m</th>\n",
       "      <td>0.010767</td>\n",
       "      <td>-0.007880</td>\n",
       "      <td>-0.091939</td>\n",
       "      <td>-0.036380</td>\n",
       "      <td>0.195336</td>\n",
       "      <td>-0.059277</td>\n",
       "      <td>0.000125</td>\n",
       "      <td>0.399773</td>\n",
       "      <td>-0.117264</td>\n",
       "      <td>0.039043</td>\n",
       "      <td>...</td>\n",
       "      <td>0.135133</td>\n",
       "      <td>0.296899</td>\n",
       "      <td>-0.454494</td>\n",
       "      <td>0.184144</td>\n",
       "      <td>0.972245</td>\n",
       "      <td>0.688230</td>\n",
       "      <td>0.277686</td>\n",
       "      <td>1.000000</td>\n",
       "      <td>0.945154</td>\n",
       "      <td>-0.307771</td>\n",
       "    </tr>\n",
       "    <tr>\n",
       "      <th>nr.employed</th>\n",
       "      <td>-0.017725</td>\n",
       "      <td>-0.019574</td>\n",
       "      <td>-0.086199</td>\n",
       "      <td>-0.041492</td>\n",
       "      <td>0.189845</td>\n",
       "      <td>-0.045862</td>\n",
       "      <td>0.003903</td>\n",
       "      <td>0.269155</td>\n",
       "      <td>-0.221425</td>\n",
       "      <td>0.028380</td>\n",
       "      <td>...</td>\n",
       "      <td>0.144095</td>\n",
       "      <td>0.372605</td>\n",
       "      <td>-0.501333</td>\n",
       "      <td>0.119689</td>\n",
       "      <td>0.906970</td>\n",
       "      <td>0.522034</td>\n",
       "      <td>0.100513</td>\n",
       "      <td>0.945154</td>\n",
       "      <td>1.000000</td>\n",
       "      <td>-0.354678</td>\n",
       "    </tr>\n",
       "    <tr>\n",
       "      <th>y</th>\n",
       "      <td>0.030399</td>\n",
       "      <td>0.025122</td>\n",
       "      <td>0.046203</td>\n",
       "      <td>0.057799</td>\n",
       "      <td>-0.099352</td>\n",
       "      <td>0.011552</td>\n",
       "      <td>-0.004909</td>\n",
       "      <td>-0.144773</td>\n",
       "      <td>-0.006065</td>\n",
       "      <td>0.015967</td>\n",
       "      <td>...</td>\n",
       "      <td>-0.066357</td>\n",
       "      <td>-0.324914</td>\n",
       "      <td>0.230181</td>\n",
       "      <td>0.129789</td>\n",
       "      <td>-0.298334</td>\n",
       "      <td>-0.136211</td>\n",
       "      <td>0.054878</td>\n",
       "      <td>-0.307771</td>\n",
       "      <td>-0.354678</td>\n",
       "      <td>1.000000</td>\n",
       "    </tr>\n",
       "  </tbody>\n",
       "</table>\n",
       "<p>21 rows × 21 columns</p>\n",
       "</div>"
      ],
      "text/plain": [
       "                     age       job   marital  education   default   housing  \\\n",
       "age             1.000000  0.001250 -0.389753  -0.117892  0.164965 -0.001603   \n",
       "job             0.001250  1.000000  0.027897   0.134121 -0.028277  0.006962   \n",
       "marital        -0.389753  0.027897  1.000000   0.109220 -0.079450  0.010467   \n",
       "education      -0.117892  0.134121  0.109220   1.000000 -0.186859  0.016825   \n",
       "default         0.164965 -0.028277 -0.079450  -0.186859  1.000000 -0.015815   \n",
       "housing        -0.001603  0.006962  0.010467   0.016825 -0.015815  1.000000   \n",
       "loan           -0.007368 -0.010209  0.005788   0.006384 -0.003782  0.044296   \n",
       "contact         0.007021 -0.025132 -0.054501  -0.105726  0.135238 -0.082186   \n",
       "month          -0.024877 -0.033213 -0.007629  -0.082684 -0.015830 -0.018141   \n",
       "day_of_week    -0.017572 -0.000844  0.002202  -0.017986 -0.008701  0.003339   \n",
       "duration       -0.000866 -0.006490  0.010290  -0.015102 -0.011794 -0.007658   \n",
       "campaign        0.004594 -0.006923 -0.007240   0.000371  0.032825 -0.011010   \n",
       "pdays          -0.034369 -0.028468 -0.037942  -0.046626  0.080062 -0.010551   \n",
       "previous        0.024365  0.020965  0.038689   0.038831 -0.102416  0.021314   \n",
       "poutcome        0.019750  0.011504  0.001912   0.017009  0.023417 -0.011783   \n",
       "emp.var.rate   -0.000371 -0.008271 -0.084210  -0.043778  0.203263 -0.060196   \n",
       "cons.price.idx  0.000857 -0.016017 -0.057477  -0.081607  0.168073 -0.080504   \n",
       "cons.conf.idx   0.129372  0.052760 -0.033783   0.078799  0.026522 -0.033845   \n",
       "euribor3m       0.010767 -0.007880 -0.091939  -0.036380  0.195336 -0.059277   \n",
       "nr.employed    -0.017725 -0.019574 -0.086199  -0.041492  0.189845 -0.045862   \n",
       "y               0.030399  0.025122  0.046203   0.057799 -0.099352  0.011552   \n",
       "\n",
       "                    loan   contact     month  day_of_week  ...  campaign  \\\n",
       "age            -0.007368  0.007021 -0.024877    -0.017572  ...  0.004594   \n",
       "job            -0.010209 -0.025132 -0.033213    -0.000844  ... -0.006923   \n",
       "marital         0.005788 -0.054501 -0.007629     0.002202  ... -0.007240   \n",
       "education       0.006384 -0.105726 -0.082684    -0.017986  ...  0.000371   \n",
       "default        -0.003782  0.135238 -0.015830    -0.008701  ...  0.032825   \n",
       "housing         0.044296 -0.082186 -0.018141     0.003339  ... -0.011010   \n",
       "loan            1.000000 -0.008556 -0.005705    -0.009344  ...  0.005166   \n",
       "contact        -0.008556  1.000000  0.276565    -0.009575  ...  0.077368   \n",
       "month          -0.005705  0.276565  1.000000     0.027677  ... -0.062059   \n",
       "day_of_week    -0.009344 -0.009575  0.027677     1.000000  ... -0.038288   \n",
       "duration       -0.000916 -0.026657  0.003690     0.021950  ... -0.071699   \n",
       "campaign        0.005166  0.077368 -0.062059    -0.038288  ...  1.000000   \n",
       "pdays           0.000345  0.117970 -0.047891    -0.009531  ...  0.052584   \n",
       "previous       -0.001327 -0.212848  0.103157    -0.004102  ... -0.079141   \n",
       "poutcome       -0.001511  0.118744 -0.065012     0.018732  ...  0.032586   \n",
       "emp.var.rate    0.001849  0.393584 -0.178782     0.033245  ...  0.150754   \n",
       "cons.price.idx -0.002430  0.591474 -0.004239     0.005644  ...  0.127836   \n",
       "cons.conf.idx  -0.012025  0.251614  0.009652     0.041465  ... -0.013733   \n",
       "euribor3m       0.000125  0.399773 -0.117264     0.039043  ...  0.135133   \n",
       "nr.employed     0.003903  0.269155 -0.221425     0.028380  ...  0.144095   \n",
       "y              -0.004909 -0.144773 -0.006065     0.015967  ... -0.066357   \n",
       "\n",
       "                   pdays  previous  poutcome  emp.var.rate  cons.price.idx  \\\n",
       "age            -0.034369  0.024365  0.019750     -0.000371        0.000857   \n",
       "job            -0.028468  0.020965  0.011504     -0.008271       -0.016017   \n",
       "marital        -0.037942  0.038689  0.001912     -0.084210       -0.057477   \n",
       "education      -0.046626  0.038831  0.017009     -0.043778       -0.081607   \n",
       "default         0.080062 -0.102416  0.023417      0.203263        0.168073   \n",
       "housing        -0.010551  0.021314 -0.011783     -0.060196       -0.080504   \n",
       "loan            0.000345 -0.001327 -0.001511      0.001849       -0.002430   \n",
       "contact         0.117970 -0.212848  0.118744      0.393584        0.591474   \n",
       "month          -0.047891  0.103157 -0.065012     -0.178782       -0.004239   \n",
       "day_of_week    -0.009531 -0.004102  0.018732      0.033245        0.005644   \n",
       "duration       -0.047577  0.020640  0.033360     -0.027968        0.005312   \n",
       "campaign        0.052584 -0.079141  0.032586      0.150754        0.127836   \n",
       "pdays           1.000000 -0.587514 -0.475619      0.271004        0.078889   \n",
       "previous       -0.587514  1.000000 -0.313110     -0.420489       -0.203130   \n",
       "poutcome       -0.475619 -0.313110  1.000000      0.192972        0.211330   \n",
       "emp.var.rate    0.271004 -0.420489  0.192972      1.000000        0.775334   \n",
       "cons.price.idx  0.078889 -0.203130  0.211330      0.775334        1.000000   \n",
       "cons.conf.idx  -0.091342 -0.050936  0.178289      0.196041        0.058986   \n",
       "euribor3m       0.296899 -0.454494  0.184144      0.972245        0.688230   \n",
       "nr.employed     0.372605 -0.501333  0.119689      0.906970        0.522034   \n",
       "y              -0.324914  0.230181  0.129789     -0.298334       -0.136211   \n",
       "\n",
       "                cons.conf.idx  euribor3m  nr.employed         y  \n",
       "age                  0.129372   0.010767    -0.017725  0.030399  \n",
       "job                  0.052760  -0.007880    -0.019574  0.025122  \n",
       "marital             -0.033783  -0.091939    -0.086199  0.046203  \n",
       "education            0.078799  -0.036380    -0.041492  0.057799  \n",
       "default              0.026522   0.195336     0.189845 -0.099352  \n",
       "housing             -0.033845  -0.059277    -0.045862  0.011552  \n",
       "loan                -0.012025   0.000125     0.003903 -0.004909  \n",
       "contact              0.251614   0.399773     0.269155 -0.144773  \n",
       "month                0.009652  -0.117264    -0.221425 -0.006065  \n",
       "day_of_week          0.041465   0.039043     0.028380  0.015967  \n",
       "duration            -0.008173  -0.032897    -0.044703  0.405274  \n",
       "campaign            -0.013733   0.135133     0.144095 -0.066357  \n",
       "pdays               -0.091342   0.296899     0.372605 -0.324914  \n",
       "previous            -0.050936  -0.454494    -0.501333  0.230181  \n",
       "poutcome             0.178289   0.184144     0.119689  0.129789  \n",
       "emp.var.rate         0.196041   0.972245     0.906970 -0.298334  \n",
       "cons.price.idx       0.058986   0.688230     0.522034 -0.136211  \n",
       "cons.conf.idx        1.000000   0.277686     0.100513  0.054878  \n",
       "euribor3m            0.277686   1.000000     0.945154 -0.307771  \n",
       "nr.employed          0.100513   0.945154     1.000000 -0.354678  \n",
       "y                    0.054878  -0.307771    -0.354678  1.000000  \n",
       "\n",
       "[21 rows x 21 columns]"
      ]
     },
     "execution_count": 55,
     "metadata": {},
     "output_type": "execute_result"
    }
   ],
   "source": [
    "#AVALIAR AS CORRELAÇÔES DA BASE\n",
    "dataset.corr(method ='pearson') "
   ]
  },
  {
   "cell_type": "code",
   "execution_count": 56,
   "metadata": {},
   "outputs": [
    {
     "data": {
      "text/plain": [
       "<matplotlib.axes._subplots.AxesSubplot at 0x17a8fbd1d90>"
      ]
     },
     "execution_count": 56,
     "metadata": {},
     "output_type": "execute_result"
    },
    {
     "data": {
      "image/png": "[encoded data removed]",
      "text/plain": [
       "<Figure size 792x648 with 2 Axes>"
      ]
     },
     "metadata": {
      "needs_background": "light"
     },
     "output_type": "display_data"
    }
   ],
   "source": [
    "#sns.set_theme(style=\"white\")\n",
    "# Compute the correlation matrix\n",
    "corr = dataset.corr()\n",
    "# Generate a mask for the upper triangle\n",
    "mask = np.triu(np.ones_like(corr, dtype=bool))\n",
    "# Set up the matplotlib figure\n",
    "f, ax = plt.subplots(figsize=(11, 9))\n",
    "# Generate a custom diverging colormap\n",
    "cmap = sns.diverging_palette(230, 20, as_cmap=True)\n",
    "# Draw the heatmap with the mask and correct aspect ratio\n",
    "sns.heatmap(corr, mask=mask, cmap=cmap, vmax=.3, center=0,\n",
    "            square=True, linewidths=.5, cbar_kws={\"shrink\": .5})"
   ]
  },
  {
   "cell_type": "markdown",
   "metadata": {},
   "source": [
    "# Criando um Base Line para o método KNN"
   ]
  },
  {
   "cell_type": "markdown",
   "metadata": {},
   "source": [
    "## Dividindo entre dados de Treino e Teste"
   ]
  },
  {
   "cell_type": "code",
   "execution_count": 57,
   "metadata": {},
   "outputs": [],
   "source": [
    "from sklearn.model_selection import train_test_split\n",
    "X_train, X_test, y_train, y_test = train_test_split(dataset.drop('y',axis=1),dataset['y'],test_size=0.3)"
   ]
  },
  {
   "cell_type": "markdown",
   "metadata": {},
   "source": [
    "# Verificando a forma dos dados"
   ]
  },
  {
   "cell_type": "code",
   "execution_count": 58,
   "metadata": {},
   "outputs": [
    {
     "data": {
      "text/plain": [
       "((28831, 20), (12357, 20))"
      ]
     },
     "execution_count": 58,
     "metadata": {},
     "output_type": "execute_result"
    }
   ],
   "source": [
    "X_train.shape,X_test.shape"
   ]
  },
  {
   "cell_type": "code",
   "execution_count": 59,
   "metadata": {},
   "outputs": [
    {
     "data": {
      "text/plain": [
       "((28831,), (12357,))"
      ]
     },
     "execution_count": 59,
     "metadata": {},
     "output_type": "execute_result"
    }
   ],
   "source": [
    "y_train.shape,y_test.shape"
   ]
  },
  {
   "cell_type": "code",
   "execution_count": 60,
   "metadata": {},
   "outputs": [],
   "source": [
    "from sklearn.neighbors import KNeighborsClassifier\n",
    "knn = KNeighborsClassifier(n_neighbors=3)"
   ]
  },
  {
   "cell_type": "markdown",
   "metadata": {},
   "source": [
    "# Treinando o Algoritmo"
   ]
  },
  {
   "cell_type": "code",
   "execution_count": 61,
   "metadata": {},
   "outputs": [
    {
     "data": {
      "text/plain": [
       "KNeighborsClassifier(n_neighbors=3)"
      ]
     },
     "execution_count": 61,
     "metadata": {},
     "output_type": "execute_result"
    }
   ],
   "source": [
    "knn.fit(X_train,y_train)"
   ]
  },
  {
   "cell_type": "markdown",
   "metadata": {},
   "source": [
    "# Executando o método com os dados de Teste"
   ]
  },
  {
   "cell_type": "code",
   "execution_count": 62,
   "metadata": {},
   "outputs": [
    {
     "data": {
      "text/plain": [
       "array([0, 0, 0, ..., 0, 0, 1], dtype=int64)"
      ]
     },
     "execution_count": 62,
     "metadata": {},
     "output_type": "execute_result"
    }
   ],
   "source": [
    "resultado = knn.predict(X_test)\n",
    "resultado"
   ]
  },
  {
   "cell_type": "markdown",
   "metadata": {},
   "source": [
    "# Testes de validação"
   ]
  },
  {
   "cell_type": "code",
   "execution_count": 63,
   "metadata": {},
   "outputs": [
    {
     "name": "stdout",
     "output_type": "stream",
     "text": [
      "          Predito      0     1    All\n",
      "Real                                 \n",
      "0                  10466   531  10997\n",
      "1                    689   671   1360\n",
      "All                11155  1202  12357\n"
     ]
    }
   ],
   "source": [
    "print (pd.crosstab(y_test,resultado, rownames=['Real'], colnames=['          Predito'], margins=True))"
   ]
  },
  {
   "cell_type": "markdown",
   "metadata": {},
   "source": [
    "Avaliando a matriz de confusão acima podemos ver que o desbalanceamento esta afetando muito o resultado, pois o método esta muito bom para achar as negações (0) do que as afirmações"
   ]
  },
  {
   "cell_type": "markdown",
   "metadata": {},
   "source": [
    "# Carregando métricas de avaliação"
   ]
  },
  {
   "cell_type": "code",
   "execution_count": 64,
   "metadata": {},
   "outputs": [
    {
     "name": "stdout",
     "output_type": "stream",
     "text": [
      "              precision    recall  f1-score   support\n",
      "\n",
      "           0       0.94      0.95      0.94     10997\n",
      "           1       0.56      0.49      0.52      1360\n",
      "\n",
      "    accuracy                           0.90     12357\n",
      "   macro avg       0.75      0.72      0.73     12357\n",
      "weighted avg       0.90      0.90      0.90     12357\n",
      "\n"
     ]
    }
   ],
   "source": [
    "from sklearn import metrics\n",
    "print(metrics.classification_report(y_test,resultado))"
   ]
  },
  {
   "cell_type": "markdown",
   "metadata": {},
   "source": [
    "# Otimizando o parâmetro K dos vizinhos"
   ]
  },
  {
   "cell_type": "markdown",
   "metadata": {},
   "source": [
    "Antes de rebalancear a base eu vou fazer um teste, para otimizar a escolha da quantidade de vizinhos (K), para verificar se vamos melhorar muito a precisão do modelo"
   ]
  },
  {
   "cell_type": "code",
   "execution_count": 65,
   "metadata": {},
   "outputs": [],
   "source": [
    "from sklearn.model_selection import GridSearchCV"
   ]
  },
  {
   "cell_type": "code",
   "execution_count": 66,
   "metadata": {},
   "outputs": [],
   "source": [
    "k_list = list(range(1,21))\n",
    "k_values = dict(n_neighbors=k_list)\n",
    "#k_values"
   ]
  },
  {
   "cell_type": "code",
   "execution_count": 67,
   "metadata": {},
   "outputs": [],
   "source": [
    "grid = GridSearchCV(knn, k_values, cv=5, scoring='accuracy')"
   ]
  },
  {
   "cell_type": "code",
   "execution_count": 68,
   "metadata": {},
   "outputs": [
    {
     "data": {
      "text/plain": [
       "GridSearchCV(cv=5, estimator=KNeighborsClassifier(n_neighbors=3),\n",
       "             param_grid={'n_neighbors': [1, 2, 3, 4, 5, 6, 7, 8, 9, 10, 11, 12,\n",
       "                                         13, 14, 15, 16, 17, 18, 19, 20]},\n",
       "             scoring='accuracy')"
      ]
     },
     "execution_count": 68,
     "metadata": {},
     "output_type": "execute_result"
    }
   ],
   "source": [
    "grid.fit(dataset.drop('y',axis=1),dataset['y'])"
   ]
  },
  {
   "cell_type": "code",
   "execution_count": 69,
   "metadata": {},
   "outputs": [
    {
     "data": {
      "text/plain": [
       "dict_keys(['mean_fit_time', 'std_fit_time', 'mean_score_time', 'std_score_time', 'param_n_neighbors', 'params', 'split0_test_score', 'split1_test_score', 'split2_test_score', 'split3_test_score', 'split4_test_score', 'mean_test_score', 'std_test_score', 'rank_test_score'])"
      ]
     },
     "execution_count": 69,
     "metadata": {},
     "output_type": "execute_result"
    }
   ],
   "source": [
    "grid.cv_results_.keys()"
   ]
  },
  {
   "cell_type": "code",
   "execution_count": 70,
   "metadata": {},
   "outputs": [
    {
     "name": "stdout",
     "output_type": "stream",
     "text": [
      "mean_test_score  :  [0.7489726  0.80525379 0.78901059 0.81416477 0.80476846 0.81921523\n",
      " 0.81431071 0.82256592 0.81787992 0.82436272 0.82135202 0.8258681\n",
      " 0.82295455 0.82640232 0.82496978 0.82710643 0.82574677 0.82771347\n",
      " 0.82681511 0.82873324]\n",
      "std_test_score  :  [0.13052604 0.09868486 0.10891428 0.09885267 0.10519984 0.09770022\n",
      " 0.10212447 0.09750819 0.10123357 0.09829961 0.10085775 0.09878782\n",
      " 0.10096031 0.09800007 0.10002198 0.09723658 0.09907896 0.09644361\n",
      " 0.09815088 0.09549669]\n",
      "param_n_neighbors  :  [1 2 3 4 5 6 7 8 9 10 11 12 13 14 15 16 17 18 19 20]\n"
     ]
    }
   ],
   "source": [
    "for i in ['mean_test_score', 'std_test_score', 'param_n_neighbors']:\n",
    "        print(i,\" : \",grid.cv_results_[i])\n"
   ]
  },
  {
   "cell_type": "code",
   "execution_count": 71,
   "metadata": {},
   "outputs": [],
   "source": [
    "grid.cv_results_; #para saber os valores tirar o ; do final"
   ]
  },
  {
   "cell_type": "code",
   "execution_count": 72,
   "metadata": {},
   "outputs": [
    {
     "name": "stdout",
     "output_type": "stream",
     "text": [
      "Melhor valor de k = {'n_neighbors': 20} com o valor 0.828733240012741 de acurácia\n"
     ]
    }
   ],
   "source": [
    "print(\"Melhor valor de k = {} com o valor {} de acurácia\".format(grid.best_params_,grid.best_score_))"
   ]
  },
  {
   "cell_type": "code",
   "execution_count": 73,
   "metadata": {},
   "outputs": [
    {
     "data": {
      "text/plain": [
       "array([0.7489726 , 0.80525379, 0.78901059, 0.81416477, 0.80476846,\n",
       "       0.81921523, 0.81431071, 0.82256592, 0.81787992, 0.82436272,\n",
       "       0.82135202, 0.8258681 , 0.82295455, 0.82640232, 0.82496978,\n",
       "       0.82710643, 0.82574677, 0.82771347, 0.82681511, 0.82873324])"
      ]
     },
     "execution_count": 73,
     "metadata": {},
     "output_type": "execute_result"
    }
   ],
   "source": [
    "grid.cv_results_['mean_test_score']"
   ]
  },
  {
   "cell_type": "code",
   "execution_count": 74,
   "metadata": {},
   "outputs": [],
   "source": [
    "scores=[]\n",
    "for score in grid.cv_results_['mean_test_score']:\n",
    "    #print(score)\n",
    "    scores.append(score)\n",
    "\n",
    "#scores"
   ]
  },
  {
   "cell_type": "code",
   "execution_count": 75,
   "metadata": {},
   "outputs": [
    {
     "data": {
      "image/png": "[encoded data removed]",
      "text/plain": [
       "<Figure size 720x432 with 1 Axes>"
      ]
     },
     "metadata": {
      "needs_background": "light"
     },
     "output_type": "display_data"
    }
   ],
   "source": [
    "plt.figure(figsize=(10,6))\n",
    "plt.plot(k_list,scores,color='red',linestyle='dashed',marker='o')\n",
    "plt.xlabel('k')\n",
    "plt.ylabel('accuracy')\n",
    "plt.show()"
   ]
  },
  {
   "cell_type": "markdown",
   "metadata": {},
   "source": [
    "# AGORA IREMOS REBALANCEAR A BASE E AVALIAR SUA MELHORIA NO MODELO#!pip install imbalanced-learn"
   ]
  },
  {
   "cell_type": "code",
   "execution_count": 76,
   "metadata": {},
   "outputs": [],
   "source": [
    "#!pip install imbalanced-learn"
   ]
  },
  {
   "cell_type": "markdown",
   "metadata": {},
   "source": [
    "# Carregando a biblioteca para fazer o Under Sampling\n",
    "\n",
    "Esse método busca reduzir a base que tem o maior número de individuos de modo a equiparar as quantidades"
   ]
  },
  {
   "cell_type": "code",
   "execution_count": 77,
   "metadata": {},
   "outputs": [],
   "source": [
    "from imblearn.under_sampling import RandomUnderSampler"
   ]
  },
  {
   "cell_type": "code",
   "execution_count": 78,
   "metadata": {},
   "outputs": [
    {
     "name": "stdout",
     "output_type": "stream",
     "text": [
      "Data set completo\n",
      "(41188, 21)\n",
      "Data set YES\n",
      "(4640, 21)\n",
      "Data set NO\n"
     ]
    },
    {
     "data": {
      "text/plain": [
       "(36548, 21)"
      ]
     },
     "execution_count": 78,
     "metadata": {},
     "output_type": "execute_result"
    }
   ],
   "source": [
    "# VERIFICANDO O TAMANHO DAS BASES DESBALANCEADAS\n",
    "print('Data set completo')\n",
    "print(dataset.shape,)\n",
    "print('Data set YES')\n",
    "print(dataset_yes.shape,)\n",
    "print('Data set NO')\n",
    "dataset_no.shape"
   ]
  },
  {
   "cell_type": "markdown",
   "metadata": {},
   "source": [
    "Fazendo um plot para observar se as bases estão balanceadas agora"
   ]
  },
  {
   "cell_type": "code",
   "execution_count": 79,
   "metadata": {},
   "outputs": [
    {
     "name": "stdout",
     "output_type": "stream",
     "text": [
      "1    4640\n",
      "0    4640\n",
      "Name: y, dtype: int64\n"
     ]
    },
    {
     "data": {
      "image/png": "[encoded data removed]",
      "text/plain": [
       "<Figure size 432x288 with 1 Axes>"
      ]
     },
     "metadata": {
      "needs_background": "light"
     },
     "output_type": "display_data"
    }
   ],
   "source": [
    "import seaborn as sns\n",
    "# usar técnica under-sampling\n",
    "rus = RandomUnderSampler();\n",
    "X_res, y_res = rus.fit_sample(dataset.drop('y',axis=1), dataset['y']);\n",
    " \n",
    "# ver o balanceamento das classes\n",
    "print(pd.Series(y_res).value_counts());\n",
    " \n",
    "# plotar a nova distribuição de classes\n",
    "sns.countplot(y_res);"
   ]
  },
  {
   "cell_type": "markdown",
   "metadata": {},
   "source": [
    "# Agora irei rodar novamente a Base Line, mas considerando uma base balanceada"
   ]
  },
  {
   "cell_type": "code",
   "execution_count": 80,
   "metadata": {},
   "outputs": [],
   "source": [
    "from sklearn.model_selection import train_test_split\n",
    "X_train_res, X_test_res, y_train_res, y_test_res = train_test_split(X_res,y_res,test_size=0.3)"
   ]
  },
  {
   "cell_type": "code",
   "execution_count": 81,
   "metadata": {},
   "outputs": [
    {
     "data": {
      "text/plain": [
       "((6496, 20), (2784, 20))"
      ]
     },
     "execution_count": 81,
     "metadata": {},
     "output_type": "execute_result"
    }
   ],
   "source": [
    "X_train_res.shape,X_test_res.shape"
   ]
  },
  {
   "cell_type": "code",
   "execution_count": 82,
   "metadata": {},
   "outputs": [],
   "source": [
    "#### Modelo baseline a ser batido ####\n",
    "from sklearn.neighbors import KNeighborsClassifier\n",
    "knn_res = KNeighborsClassifier(n_neighbors=3)"
   ]
  },
  {
   "cell_type": "code",
   "execution_count": 83,
   "metadata": {},
   "outputs": [
    {
     "data": {
      "text/plain": [
       "KNeighborsClassifier(n_neighbors=3)"
      ]
     },
     "execution_count": 83,
     "metadata": {},
     "output_type": "execute_result"
    }
   ],
   "source": [
    "#### Treinando o novo Modelo ####\n",
    "knn_res.fit(X_train_res,y_train_res)"
   ]
  },
  {
   "cell_type": "code",
   "execution_count": 84,
   "metadata": {},
   "outputs": [],
   "source": [
    "#### Gerando o resultado com os dados de Teste rebalanceados ####\n",
    "resultado_res = knn_res.predict(X_test_res)\n",
    "#resultado_res"
   ]
  },
  {
   "cell_type": "code",
   "execution_count": 85,
   "metadata": {},
   "outputs": [
    {
     "name": "stdout",
     "output_type": "stream",
     "text": [
      "          Predito_rebalance     0     1   All\n",
      "Real_rebalance                               \n",
      "0                            1135   239  1374\n",
      "1                             189  1221  1410\n",
      "All                          1324  1460  2784\n"
     ]
    }
   ],
   "source": [
    "#### Exibindo a matriz de confusão do novo Modelo ####\n",
    "print (pd.crosstab(y_test_res,resultado_res, rownames=['Real_rebalance'], colnames=['          Predito_rebalance'], margins=True))"
   ]
  },
  {
   "cell_type": "code",
   "execution_count": 86,
   "metadata": {},
   "outputs": [
    {
     "name": "stdout",
     "output_type": "stream",
     "text": [
      "          Predito      0     1    All\n",
      "Real                                 \n",
      "0                  10466   531  10997\n",
      "1                    689   671   1360\n",
      "All                11155  1202  12357\n"
     ]
    }
   ],
   "source": [
    "#### Exibindo a matriz de confusão do Modelo desbalanceado ####\n",
    "print (pd.crosstab(y_test,resultado, rownames=['Real'], colnames=['          Predito'], margins=True))"
   ]
  },
  {
   "cell_type": "markdown",
   "metadata": {},
   "source": [
    "### Como podemos observar na matriz de confusão depois de ter rebalanceado os dados melhoramos a classificação dos clientes"
   ]
  },
  {
   "cell_type": "code",
   "execution_count": 87,
   "metadata": {},
   "outputs": [
    {
     "name": "stdout",
     "output_type": "stream",
     "text": [
      "              precision    recall  f1-score   support\n",
      "\n",
      "           0       0.86      0.83      0.84      1374\n",
      "           1       0.84      0.87      0.85      1410\n",
      "\n",
      "    accuracy                           0.85      2784\n",
      "   macro avg       0.85      0.85      0.85      2784\n",
      "weighted avg       0.85      0.85      0.85      2784\n",
      "\n"
     ]
    }
   ],
   "source": [
    "from sklearn import metrics\n",
    "print(metrics.classification_report(y_test_res,resultado_res))"
   ]
  },
  {
   "cell_type": "markdown",
   "metadata": {},
   "source": [
    "# Otimizando o parâmetro K para a base de dados rebalanceada "
   ]
  },
  {
   "cell_type": "code",
   "execution_count": 88,
   "metadata": {},
   "outputs": [],
   "source": [
    "from sklearn.model_selection import GridSearchCV"
   ]
  },
  {
   "cell_type": "code",
   "execution_count": 89,
   "metadata": {},
   "outputs": [],
   "source": [
    "k_list = list(range(1,31))\n",
    "k_values = dict(n_neighbors=k_list)\n",
    "#k_values"
   ]
  },
  {
   "cell_type": "code",
   "execution_count": 90,
   "metadata": {},
   "outputs": [],
   "source": [
    "grid_res = GridSearchCV(knn_res, k_values, cv=5, scoring='accuracy')"
   ]
  },
  {
   "cell_type": "code",
   "execution_count": 91,
   "metadata": {},
   "outputs": [
    {
     "data": {
      "text/plain": [
       "GridSearchCV(cv=5, estimator=KNeighborsClassifier(n_neighbors=3),\n",
       "             param_grid={'n_neighbors': [1, 2, 3, 4, 5, 6, 7, 8, 9, 10, 11, 12,\n",
       "                                         13, 14, 15, 16, 17, 18, 19, 20, 21, 22,\n",
       "                                         23, 24, 25, 26, 27, 28, 29, 30]},\n",
       "             scoring='accuracy')"
      ]
     },
     "execution_count": 91,
     "metadata": {},
     "output_type": "execute_result"
    }
   ],
   "source": [
    "grid_res.fit(X_res,y_res)"
   ]
  },
  {
   "cell_type": "code",
   "execution_count": 92,
   "metadata": {},
   "outputs": [
    {
     "name": "stdout",
     "output_type": "stream",
     "text": [
      "Melhor valor de k = {'n_neighbors': 27} com o valor 0.815625 de acurácia\n"
     ]
    }
   ],
   "source": [
    "print(\"Melhor valor de k = {} com o valor {} de acurácia\".format(grid_res.best_params_,grid_res.best_score_))"
   ]
  },
  {
   "cell_type": "code",
   "execution_count": 93,
   "metadata": {},
   "outputs": [],
   "source": [
    "scores=[]\n",
    "for score in grid_res.cv_results_['mean_test_score']:\n",
    "    #print(score)\n",
    "    scores.append(score)"
   ]
  },
  {
   "cell_type": "code",
   "execution_count": 94,
   "metadata": {},
   "outputs": [
    {
     "data": {
      "image/png": "[encoded data removed]",
      "text/plain": [
       "<Figure size 720x432 with 1 Axes>"
      ]
     },
     "metadata": {
      "needs_background": "light"
     },
     "output_type": "display_data"
    }
   ],
   "source": [
    "plt.figure(figsize=(10,6))\n",
    "plt.plot(k_list,scores,color='red',linestyle='dashed',marker='o')\n",
    "plt.xlabel('k')\n",
    "plt.ylabel('accuracy')\n",
    "plt.show()"
   ]
  },
  {
   "cell_type": "markdown",
   "metadata": {},
   "source": [
    "### Depois de ter rebalanceado os dados obtivemos uma acurácia um pouco menor (82% para 81%), mas em contra partida sabemos classificar melhor nossos tipos de clientes"
   ]
  },
  {
   "cell_type": "code",
   "execution_count": 95,
   "metadata": {},
   "outputs": [
    {
     "data": {
      "text/plain": [
       "array([1, 0, 0, ..., 1, 0, 1], dtype=int64)"
      ]
     },
     "execution_count": 95,
     "metadata": {},
     "output_type": "execute_result"
    }
   ],
   "source": [
    "# avaliando o caso inicial sem balanceamento\n",
    "resultado_old = knn_res.predict(X_test)\n",
    "resultado_old"
   ]
  },
  {
   "cell_type": "code",
   "execution_count": 96,
   "metadata": {},
   "outputs": [
    {
     "name": "stdout",
     "output_type": "stream",
     "text": [
      "              precision    recall  f1-score   support\n",
      "\n",
      "           0       0.99      0.84      0.91     10997\n",
      "           1       0.41      0.91      0.57      1360\n",
      "\n",
      "    accuracy                           0.85     12357\n",
      "   macro avg       0.70      0.87      0.74     12357\n",
      "weighted avg       0.92      0.85      0.87     12357\n",
      "\n"
     ]
    }
   ],
   "source": [
    "from sklearn import metrics\n",
    "print(metrics.classification_report(y_test,resultado_old))"
   ]
  },
  {
   "cell_type": "markdown",
   "metadata": {},
   "source": [
    "### Para fazer a utilização do KNN é importante termos uma base balanceada, no entanto para fazer isso abandonamos uma grande quantidade de dados. Por isso irei rebalancear novamente a base, replicando os dados em menor quantidade, e irei aplicar outros modelos para avaliar a ácurácia deles"
   ]
  },
  {
   "cell_type": "code",
   "execution_count": 97,
   "metadata": {},
   "outputs": [],
   "source": [
    "# Carregando a biblioteca necessária\n",
    "\n",
    "from imblearn.over_sampling import RandomOverSampler"
   ]
  },
  {
   "cell_type": "code",
   "execution_count": 98,
   "metadata": {},
   "outputs": [
    {
     "name": "stdout",
     "output_type": "stream",
     "text": [
      "1    36548\n",
      "0    36548\n",
      "Name: y, dtype: int64\n"
     ]
    },
    {
     "data": {
      "image/png": "[encoded data removed]",
      "text/plain": [
       "<Figure size 432x288 with 1 Axes>"
      ]
     },
     "metadata": {
      "needs_background": "light"
     },
     "output_type": "display_data"
    }
   ],
   "source": [
    "# usar técnica over-sampling\n",
    "rus = RandomOverSampler();\n",
    "X_over, y_over = rus.fit_sample(dataset.drop('y',axis=1), dataset['y']);\n",
    " \n",
    "# ver o balanceamento das classes\n",
    "print(pd.Series(y_over).value_counts());\n",
    " \n",
    "# plotar a nova distribuição de classes\n",
    "sns.countplot(y_over);"
   ]
  },
  {
   "cell_type": "markdown",
   "metadata": {},
   "source": [
    "# Dividindo novamente em base de treino e base de teste"
   ]
  },
  {
   "cell_type": "code",
   "execution_count": 99,
   "metadata": {},
   "outputs": [],
   "source": [
    "from sklearn.model_selection import train_test_split\n",
    "X_train_over, X_test_over, y_train_over, y_test_over = train_test_split(X_over,y_over,test_size=0.3)"
   ]
  },
  {
   "cell_type": "markdown",
   "metadata": {},
   "source": [
    "# Aplicando o método de MLP"
   ]
  },
  {
   "cell_type": "code",
   "execution_count": 100,
   "metadata": {},
   "outputs": [],
   "source": [
    "#definição da biblioteca\n",
    "from sklearn.neural_network import MLPClassifier\n",
    "#Algoritmo Rede MLP\n",
    "clf_mlp = MLPClassifier(solver=\"lbfgs\", alpha=1e-5, hidden_layer_sizes=(3, 3), random_state=1,max_iter=1000)\n",
    "#Realiza o treinamento do classificador\n",
    "clf_mlp= clf_mlp.fit(X_train_over,y_train_over)\n",
    "\n",
    "#Realiza a previsão de classificaçao \n",
    "y_pred = clf_mlp.predict(X_test_over)"
   ]
  },
  {
   "cell_type": "code",
   "execution_count": 101,
   "metadata": {},
   "outputs": [
    {
     "name": "stdout",
     "output_type": "stream",
     "text": [
      "          Predito_rebalance      0      1    All\n",
      "Real_rebalance                                  \n",
      "0                             9173   1726  10899\n",
      "1                             1258   9772  11030\n",
      "All                          10431  11498  21929\n"
     ]
    }
   ],
   "source": [
    "#### Exibindo a matriz de confusão do novo Modelo ####\n",
    "print (pd.crosstab(y_test_over,y_pred, rownames=['Real_rebalance'], colnames=['          Predito_rebalance'], margins=True))"
   ]
  },
  {
   "cell_type": "code",
   "execution_count": 102,
   "metadata": {},
   "outputs": [
    {
     "name": "stdout",
     "output_type": "stream",
     "text": [
      "\n",
      "Percentual de acerto de zero foi 82.82% e o de erro foi 17.18%  para o acerto de um tivemos 72.66% e o de erro foi 27.34%\n"
     ]
    }
   ],
   "source": [
    "percentual_acerto_zero=(9074/10956)*100\n",
    "percentual_erro_zero=(1882/10956)*100\n",
    "percentual_acerto_um=(7973/10973)*100\n",
    "percentual_erro_um=(3000/10973)*100\n",
    "\n",
    "print('')\n",
    "print(\"Percentual de acerto de zero foi {:1.2f}% e o de erro foi {:1.2f}%  para o acerto de um tivemos {:1.2f}% e o de erro foi {:1.2f}%\".format(percentual_acerto_zero,percentual_erro_zero,percentual_acerto_um,percentual_erro_um))"
   ]
  },
  {
   "cell_type": "code",
   "execution_count": 103,
   "metadata": {},
   "outputs": [
    {
     "name": "stdout",
     "output_type": "stream",
     "text": [
      "              precision    recall  f1-score   support\n",
      "\n",
      "           0       0.88      0.84      0.86     10899\n",
      "           1       0.85      0.89      0.87     11030\n",
      "\n",
      "    accuracy                           0.86     21929\n",
      "   macro avg       0.86      0.86      0.86     21929\n",
      "weighted avg       0.86      0.86      0.86     21929\n",
      "\n"
     ]
    }
   ],
   "source": [
    "from sklearn import metrics\n",
    "print(metrics.classification_report(y_test_over,y_pred))"
   ]
  },
  {
   "cell_type": "markdown",
   "metadata": {},
   "source": [
    "### Agora irei fazer um Grid Search para a escolha dos parâmetros das camadas escondidas"
   ]
  },
  {
   "cell_type": "code",
   "execution_count": 104,
   "metadata": {},
   "outputs": [],
   "source": [
    "#parameter_space = {\n",
    "#    'hidden_layer_sizes': [(10,30,10),(20,)],\n",
    "#    'activation': ['tanh', 'relu'],\n",
    "#    'solver': ['sgd', 'adam'],\n",
    "#    'alpha': [0.0001, 0.05],\n",
    "#    'learning_rate': ['constant','adaptive'],\n",
    "#}\n",
    "#\n",
    "clf_mlp = MLPClassifier(solver=\"lbfgs\", alpha=1e-5, random_state=1,max_iter=1000)\n",
    "parameter_space = {\n",
    "    'hidden_layer_sizes': [(1,1),(2,2),(3,3),(4,4),(5,5),(6,6)],\n",
    "}\n",
    "from sklearn.model_selection import GridSearchCV\n",
    "clf = GridSearchCV(clf_mlp, parameter_space, n_jobs=-1, cv=5)\n",
    "clf_mlp= clf_mlp.fit(X_over,y_over)\n",
    "y_pred = clf_mlp.predict(X_test_over)"
   ]
  },
  {
   "cell_type": "code",
   "execution_count": 105,
   "metadata": {},
   "outputs": [
    {
     "name": "stdout",
     "output_type": "stream",
     "text": [
      "          Predito_rebalance      0      1    All\n",
      "Real_rebalance                                  \n",
      "0                             7321   3578  10899\n",
      "1                             3637   7393  11030\n",
      "All                          10958  10971  21929\n"
     ]
    }
   ],
   "source": [
    "#### Exibindo a matriz de confusão do novo Modelo ####\n",
    "print (pd.crosstab(y_test_over,y_pred, rownames=['Real_rebalance'], colnames=['          Predito_rebalance'], margins=True))"
   ]
  },
  {
   "cell_type": "code",
   "execution_count": 106,
   "metadata": {},
   "outputs": [
    {
     "name": "stdout",
     "output_type": "stream",
     "text": [
      "              precision    recall  f1-score   support\n",
      "\n",
      "           0       0.67      0.67      0.67     10899\n",
      "           1       0.67      0.67      0.67     11030\n",
      "\n",
      "    accuracy                           0.67     21929\n",
      "   macro avg       0.67      0.67      0.67     21929\n",
      "weighted avg       0.67      0.67      0.67     21929\n",
      "\n"
     ]
    }
   ],
   "source": [
    "from sklearn import metrics\n",
    "print(metrics.classification_report(y_test_over,y_pred))"
   ]
  },
  {
   "cell_type": "code",
   "execution_count": 107,
   "metadata": {},
   "outputs": [],
   "source": [
    "scores=[]\n",
    "for score in grid_res.cv_results_['mean_test_score']:\n",
    "    #print(score)\n",
    "    scores.append(score)"
   ]
  },
  {
   "cell_type": "code",
   "execution_count": 108,
   "metadata": {},
   "outputs": [
    {
     "data": {
      "image/png": "[encoded data removed]",
      "text/plain": [
       "<Figure size 720x432 with 1 Axes>"
      ]
     },
     "metadata": {
      "needs_background": "light"
     },
     "output_type": "display_data"
    }
   ],
   "source": [
    "plt.figure(figsize=(10,6))\n",
    "plt.plot(scores,color='red',linestyle='dashed',marker='o')\n",
    "plt.xlabel('i')\n",
    "plt.ylabel('accuracy')\n",
    "plt.show()"
   ]
  },
  {
   "cell_type": "code",
   "execution_count": null,
   "metadata": {},
   "outputs": [],
   "source": []
  }
 ],
 "metadata": {
  "kernelspec": {
   "display_name": "Python 3",
   "language": "python",
   "name": "python3"
  },
  "language_info": {
   "codemirror_mode": {
    "name": "ipython",
    "version": 3
   },
   "file_extension": ".py",
   "mimetype": "text/x-python",
   "name": "python",
   "nbconvert_exporter": "python",
   "pygments_lexer": "ipython3",
   "version": "3.8.5"
  }
 },
 "nbformat": 4,
 "nbformat_minor": 4
}
